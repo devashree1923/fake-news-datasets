{
  "nbformat": 4,
  "nbformat_minor": 0,
  "metadata": {
    "colab": {
      "name": "FAKE-NEWS-DETECTION-PAPER.ipynb",
      "provenance": [],
      "collapsed_sections": [],
      "authorship_tag": "ABX9TyNgZyVOi+OY/sG7yLQ/QRso",
      "include_colab_link": true
    },
    "kernelspec": {
      "name": "python3",
      "display_name": "Python 3"
    },
    "language_info": {
      "name": "python"
    },
    "accelerator": "GPU",
    "gpuClass": "standard"
  },
  "cells": [
    {
      "cell_type": "markdown",
      "metadata": {
        "id": "view-in-github",
        "colab_type": "text"
      },
      "source": [
        "<a href=\"https://colab.research.google.com/github/devashree1923/fake-news-datasets/blob/master/FAKE_NEWS_DETECTION_PAPER.ipynb\" target=\"_parent\"><img src=\"https://colab.research.google.com/assets/colab-badge.svg\" alt=\"Open In Colab\"/></a>"
      ]
    },
    {
      "cell_type": "code",
      "execution_count": 2,
      "metadata": {
        "colab": {
          "base_uri": "https://localhost:8080/"
        },
        "id": "zXn4RafjqQfr",
        "outputId": "09c3b3bd-c608-4fd0-c909-ec4acd8b3509"
      },
      "outputs": [
        {
          "output_type": "stream",
          "name": "stderr",
          "text": [
            "[nltk_data] Downloading package stopwords to /root/nltk_data...\n",
            "[nltk_data]   Unzipping corpora/stopwords.zip.\n"
          ]
        },
        {
          "output_type": "execute_result",
          "data": {
            "text/plain": [
              "True"
            ]
          },
          "metadata": {},
          "execution_count": 2
        }
      ],
      "source": [
        "## Import Libraries\n",
        "import pandas as pd\n",
        "import numpy as np\n",
        "import matplotlib.pyplot as plt\n",
        "import nltk\n",
        "from nltk.stem import PorterStemmer\n",
        "import re\n",
        "import tensorflow\n",
        "from tensorflow.keras.layers import Embedding, Dense, LSTM,Dropout#,Bidirectional,GRU\n",
        "from tensorflow.keras.preprocessing.sequence import pad_sequences\n",
        "from tensorflow.keras.models import Sequential\n",
        "from tensorflow.keras.preprocessing.text import one_hot\n",
        "from sklearn.metrics import classification_report,accuracy_score\n",
        "\n",
        "from sklearn.linear_model import LogisticRegression\n",
        "from sklearn.tree import DecisionTreeClassifier\n",
        "from sklearn.ensemble import RandomForestClassifier\n",
        "from xgboost import XGBClassifier\n",
        "from sklearn.naive_bayes import MultinomialNB\n",
        "\n",
        "from nltk.corpus import stopwords\n",
        "nltk.download('stopwords')"
      ]
    },
    {
      "cell_type": "code",
      "source": [
        "## This is the test Data\n",
        "test_data = pd.read_csv('/content/sample_data/test.csv')\n",
        "## Import dataset\n",
        "df = pd.read_csv('/content/sample_data/train.csv')"
      ],
      "metadata": {
        "id": "gRb4RSm1qWLW"
      },
      "execution_count": 3,
      "outputs": []
    },
    {
      "cell_type": "code",
      "source": [
        "test_data.head()"
      ],
      "metadata": {
        "colab": {
          "base_uri": "https://localhost:8080/",
          "height": 206
        },
        "id": "fYZon6rzqWOE",
        "outputId": "6de5af91-d649-4d28-c4e3-b3240c7158ce"
      },
      "execution_count": 3,
      "outputs": [
        {
          "output_type": "execute_result",
          "data": {
            "text/plain": [
              "      id                                              title  \\\n",
              "0  20800  Specter of Trump Loosens Tongues, if Not Purse...   \n",
              "1  20801  Russian warships ready to strike terrorists ne...   \n",
              "2  20802  #NoDAPL: Native American Leaders Vow to Stay A...   \n",
              "3  20803  Tim Tebow Will Attempt Another Comeback, This ...   \n",
              "4  20804                    Keiser Report: Meme Wars (E995)   \n",
              "\n",
              "                    author                                               text  \n",
              "0         David Streitfeld  PALO ALTO, Calif.  —   After years of scorning...  \n",
              "1                      NaN  Russian warships ready to strike terrorists ne...  \n",
              "2            Common Dreams  Videos #NoDAPL: Native American Leaders Vow to...  \n",
              "3            Daniel Victor  If at first you don’t succeed, try a different...  \n",
              "4  Truth Broadcast Network  42 mins ago 1 Views 0 Comments 0 Likes 'For th...  "
            ],
            "text/html": [
              "\n",
              "  <div id=\"df-41751a8e-39e9-42b9-ab8d-fde03333fd3d\">\n",
              "    <div class=\"colab-df-container\">\n",
              "      <div>\n",
              "<style scoped>\n",
              "    .dataframe tbody tr th:only-of-type {\n",
              "        vertical-align: middle;\n",
              "    }\n",
              "\n",
              "    .dataframe tbody tr th {\n",
              "        vertical-align: top;\n",
              "    }\n",
              "\n",
              "    .dataframe thead th {\n",
              "        text-align: right;\n",
              "    }\n",
              "</style>\n",
              "<table border=\"1\" class=\"dataframe\">\n",
              "  <thead>\n",
              "    <tr style=\"text-align: right;\">\n",
              "      <th></th>\n",
              "      <th>id</th>\n",
              "      <th>title</th>\n",
              "      <th>author</th>\n",
              "      <th>text</th>\n",
              "    </tr>\n",
              "  </thead>\n",
              "  <tbody>\n",
              "    <tr>\n",
              "      <th>0</th>\n",
              "      <td>20800</td>\n",
              "      <td>Specter of Trump Loosens Tongues, if Not Purse...</td>\n",
              "      <td>David Streitfeld</td>\n",
              "      <td>PALO ALTO, Calif.  —   After years of scorning...</td>\n",
              "    </tr>\n",
              "    <tr>\n",
              "      <th>1</th>\n",
              "      <td>20801</td>\n",
              "      <td>Russian warships ready to strike terrorists ne...</td>\n",
              "      <td>NaN</td>\n",
              "      <td>Russian warships ready to strike terrorists ne...</td>\n",
              "    </tr>\n",
              "    <tr>\n",
              "      <th>2</th>\n",
              "      <td>20802</td>\n",
              "      <td>#NoDAPL: Native American Leaders Vow to Stay A...</td>\n",
              "      <td>Common Dreams</td>\n",
              "      <td>Videos #NoDAPL: Native American Leaders Vow to...</td>\n",
              "    </tr>\n",
              "    <tr>\n",
              "      <th>3</th>\n",
              "      <td>20803</td>\n",
              "      <td>Tim Tebow Will Attempt Another Comeback, This ...</td>\n",
              "      <td>Daniel Victor</td>\n",
              "      <td>If at first you don’t succeed, try a different...</td>\n",
              "    </tr>\n",
              "    <tr>\n",
              "      <th>4</th>\n",
              "      <td>20804</td>\n",
              "      <td>Keiser Report: Meme Wars (E995)</td>\n",
              "      <td>Truth Broadcast Network</td>\n",
              "      <td>42 mins ago 1 Views 0 Comments 0 Likes 'For th...</td>\n",
              "    </tr>\n",
              "  </tbody>\n",
              "</table>\n",
              "</div>\n",
              "      <button class=\"colab-df-convert\" onclick=\"convertToInteractive('df-41751a8e-39e9-42b9-ab8d-fde03333fd3d')\"\n",
              "              title=\"Convert this dataframe to an interactive table.\"\n",
              "              style=\"display:none;\">\n",
              "        \n",
              "  <svg xmlns=\"http://www.w3.org/2000/svg\" height=\"24px\"viewBox=\"0 0 24 24\"\n",
              "       width=\"24px\">\n",
              "    <path d=\"M0 0h24v24H0V0z\" fill=\"none\"/>\n",
              "    <path d=\"M18.56 5.44l.94 2.06.94-2.06 2.06-.94-2.06-.94-.94-2.06-.94 2.06-2.06.94zm-11 1L8.5 8.5l.94-2.06 2.06-.94-2.06-.94L8.5 2.5l-.94 2.06-2.06.94zm10 10l.94 2.06.94-2.06 2.06-.94-2.06-.94-.94-2.06-.94 2.06-2.06.94z\"/><path d=\"M17.41 7.96l-1.37-1.37c-.4-.4-.92-.59-1.43-.59-.52 0-1.04.2-1.43.59L10.3 9.45l-7.72 7.72c-.78.78-.78 2.05 0 2.83L4 21.41c.39.39.9.59 1.41.59.51 0 1.02-.2 1.41-.59l7.78-7.78 2.81-2.81c.8-.78.8-2.07 0-2.86zM5.41 20L4 18.59l7.72-7.72 1.47 1.35L5.41 20z\"/>\n",
              "  </svg>\n",
              "      </button>\n",
              "      \n",
              "  <style>\n",
              "    .colab-df-container {\n",
              "      display:flex;\n",
              "      flex-wrap:wrap;\n",
              "      gap: 12px;\n",
              "    }\n",
              "\n",
              "    .colab-df-convert {\n",
              "      background-color: #E8F0FE;\n",
              "      border: none;\n",
              "      border-radius: 50%;\n",
              "      cursor: pointer;\n",
              "      display: none;\n",
              "      fill: #1967D2;\n",
              "      height: 32px;\n",
              "      padding: 0 0 0 0;\n",
              "      width: 32px;\n",
              "    }\n",
              "\n",
              "    .colab-df-convert:hover {\n",
              "      background-color: #E2EBFA;\n",
              "      box-shadow: 0px 1px 2px rgba(60, 64, 67, 0.3), 0px 1px 3px 1px rgba(60, 64, 67, 0.15);\n",
              "      fill: #174EA6;\n",
              "    }\n",
              "\n",
              "    [theme=dark] .colab-df-convert {\n",
              "      background-color: #3B4455;\n",
              "      fill: #D2E3FC;\n",
              "    }\n",
              "\n",
              "    [theme=dark] .colab-df-convert:hover {\n",
              "      background-color: #434B5C;\n",
              "      box-shadow: 0px 1px 3px 1px rgba(0, 0, 0, 0.15);\n",
              "      filter: drop-shadow(0px 1px 2px rgba(0, 0, 0, 0.3));\n",
              "      fill: #FFFFFF;\n",
              "    }\n",
              "  </style>\n",
              "\n",
              "      <script>\n",
              "        const buttonEl =\n",
              "          document.querySelector('#df-41751a8e-39e9-42b9-ab8d-fde03333fd3d button.colab-df-convert');\n",
              "        buttonEl.style.display =\n",
              "          google.colab.kernel.accessAllowed ? 'block' : 'none';\n",
              "\n",
              "        async function convertToInteractive(key) {\n",
              "          const element = document.querySelector('#df-41751a8e-39e9-42b9-ab8d-fde03333fd3d');\n",
              "          const dataTable =\n",
              "            await google.colab.kernel.invokeFunction('convertToInteractive',\n",
              "                                                     [key], {});\n",
              "          if (!dataTable) return;\n",
              "\n",
              "          const docLinkHtml = 'Like what you see? Visit the ' +\n",
              "            '<a target=\"_blank\" href=https://colab.research.google.com/notebooks/data_table.ipynb>data table notebook</a>'\n",
              "            + ' to learn more about interactive tables.';\n",
              "          element.innerHTML = '';\n",
              "          dataTable['output_type'] = 'display_data';\n",
              "          await google.colab.output.renderOutput(dataTable, element);\n",
              "          const docLink = document.createElement('div');\n",
              "          docLink.innerHTML = docLinkHtml;\n",
              "          element.appendChild(docLink);\n",
              "        }\n",
              "      </script>\n",
              "    </div>\n",
              "  </div>\n",
              "  "
            ]
          },
          "metadata": {},
          "execution_count": 3
        }
      ]
    },
    {
      "cell_type": "code",
      "source": [
        "df.head()"
      ],
      "metadata": {
        "colab": {
          "base_uri": "https://localhost:8080/",
          "height": 206
        },
        "id": "kFf9R0t0qWRT",
        "outputId": "6b7141f0-8c44-4883-f088-c5c3ba383f30"
      },
      "execution_count": 4,
      "outputs": [
        {
          "output_type": "execute_result",
          "data": {
            "text/plain": [
              "   id                                              title              author  \\\n",
              "0   0  House Dem Aide: We Didn’t Even See Comey’s Let...       Darrell Lucus   \n",
              "1   1  FLYNN: Hillary Clinton, Big Woman on Campus - ...     Daniel J. Flynn   \n",
              "2   2                  Why the Truth Might Get You Fired  Consortiumnews.com   \n",
              "3   3  15 Civilians Killed In Single US Airstrike Hav...     Jessica Purkiss   \n",
              "4   4  Iranian woman jailed for fictional unpublished...      Howard Portnoy   \n",
              "\n",
              "                                                text  label  \n",
              "0  House Dem Aide: We Didn’t Even See Comey’s Let...      1  \n",
              "1  Ever get the feeling your life circles the rou...      0  \n",
              "2  Why the Truth Might Get You Fired October 29, ...      1  \n",
              "3  Videos 15 Civilians Killed In Single US Airstr...      1  \n",
              "4  Print \\nAn Iranian woman has been sentenced to...      1  "
            ],
            "text/html": [
              "\n",
              "  <div id=\"df-11dad930-b2a1-43ea-ba4a-d2681d35237f\">\n",
              "    <div class=\"colab-df-container\">\n",
              "      <div>\n",
              "<style scoped>\n",
              "    .dataframe tbody tr th:only-of-type {\n",
              "        vertical-align: middle;\n",
              "    }\n",
              "\n",
              "    .dataframe tbody tr th {\n",
              "        vertical-align: top;\n",
              "    }\n",
              "\n",
              "    .dataframe thead th {\n",
              "        text-align: right;\n",
              "    }\n",
              "</style>\n",
              "<table border=\"1\" class=\"dataframe\">\n",
              "  <thead>\n",
              "    <tr style=\"text-align: right;\">\n",
              "      <th></th>\n",
              "      <th>id</th>\n",
              "      <th>title</th>\n",
              "      <th>author</th>\n",
              "      <th>text</th>\n",
              "      <th>label</th>\n",
              "    </tr>\n",
              "  </thead>\n",
              "  <tbody>\n",
              "    <tr>\n",
              "      <th>0</th>\n",
              "      <td>0</td>\n",
              "      <td>House Dem Aide: We Didn’t Even See Comey’s Let...</td>\n",
              "      <td>Darrell Lucus</td>\n",
              "      <td>House Dem Aide: We Didn’t Even See Comey’s Let...</td>\n",
              "      <td>1</td>\n",
              "    </tr>\n",
              "    <tr>\n",
              "      <th>1</th>\n",
              "      <td>1</td>\n",
              "      <td>FLYNN: Hillary Clinton, Big Woman on Campus - ...</td>\n",
              "      <td>Daniel J. Flynn</td>\n",
              "      <td>Ever get the feeling your life circles the rou...</td>\n",
              "      <td>0</td>\n",
              "    </tr>\n",
              "    <tr>\n",
              "      <th>2</th>\n",
              "      <td>2</td>\n",
              "      <td>Why the Truth Might Get You Fired</td>\n",
              "      <td>Consortiumnews.com</td>\n",
              "      <td>Why the Truth Might Get You Fired October 29, ...</td>\n",
              "      <td>1</td>\n",
              "    </tr>\n",
              "    <tr>\n",
              "      <th>3</th>\n",
              "      <td>3</td>\n",
              "      <td>15 Civilians Killed In Single US Airstrike Hav...</td>\n",
              "      <td>Jessica Purkiss</td>\n",
              "      <td>Videos 15 Civilians Killed In Single US Airstr...</td>\n",
              "      <td>1</td>\n",
              "    </tr>\n",
              "    <tr>\n",
              "      <th>4</th>\n",
              "      <td>4</td>\n",
              "      <td>Iranian woman jailed for fictional unpublished...</td>\n",
              "      <td>Howard Portnoy</td>\n",
              "      <td>Print \\nAn Iranian woman has been sentenced to...</td>\n",
              "      <td>1</td>\n",
              "    </tr>\n",
              "  </tbody>\n",
              "</table>\n",
              "</div>\n",
              "      <button class=\"colab-df-convert\" onclick=\"convertToInteractive('df-11dad930-b2a1-43ea-ba4a-d2681d35237f')\"\n",
              "              title=\"Convert this dataframe to an interactive table.\"\n",
              "              style=\"display:none;\">\n",
              "        \n",
              "  <svg xmlns=\"http://www.w3.org/2000/svg\" height=\"24px\"viewBox=\"0 0 24 24\"\n",
              "       width=\"24px\">\n",
              "    <path d=\"M0 0h24v24H0V0z\" fill=\"none\"/>\n",
              "    <path d=\"M18.56 5.44l.94 2.06.94-2.06 2.06-.94-2.06-.94-.94-2.06-.94 2.06-2.06.94zm-11 1L8.5 8.5l.94-2.06 2.06-.94-2.06-.94L8.5 2.5l-.94 2.06-2.06.94zm10 10l.94 2.06.94-2.06 2.06-.94-2.06-.94-.94-2.06-.94 2.06-2.06.94z\"/><path d=\"M17.41 7.96l-1.37-1.37c-.4-.4-.92-.59-1.43-.59-.52 0-1.04.2-1.43.59L10.3 9.45l-7.72 7.72c-.78.78-.78 2.05 0 2.83L4 21.41c.39.39.9.59 1.41.59.51 0 1.02-.2 1.41-.59l7.78-7.78 2.81-2.81c.8-.78.8-2.07 0-2.86zM5.41 20L4 18.59l7.72-7.72 1.47 1.35L5.41 20z\"/>\n",
              "  </svg>\n",
              "      </button>\n",
              "      \n",
              "  <style>\n",
              "    .colab-df-container {\n",
              "      display:flex;\n",
              "      flex-wrap:wrap;\n",
              "      gap: 12px;\n",
              "    }\n",
              "\n",
              "    .colab-df-convert {\n",
              "      background-color: #E8F0FE;\n",
              "      border: none;\n",
              "      border-radius: 50%;\n",
              "      cursor: pointer;\n",
              "      display: none;\n",
              "      fill: #1967D2;\n",
              "      height: 32px;\n",
              "      padding: 0 0 0 0;\n",
              "      width: 32px;\n",
              "    }\n",
              "\n",
              "    .colab-df-convert:hover {\n",
              "      background-color: #E2EBFA;\n",
              "      box-shadow: 0px 1px 2px rgba(60, 64, 67, 0.3), 0px 1px 3px 1px rgba(60, 64, 67, 0.15);\n",
              "      fill: #174EA6;\n",
              "    }\n",
              "\n",
              "    [theme=dark] .colab-df-convert {\n",
              "      background-color: #3B4455;\n",
              "      fill: #D2E3FC;\n",
              "    }\n",
              "\n",
              "    [theme=dark] .colab-df-convert:hover {\n",
              "      background-color: #434B5C;\n",
              "      box-shadow: 0px 1px 3px 1px rgba(0, 0, 0, 0.15);\n",
              "      filter: drop-shadow(0px 1px 2px rgba(0, 0, 0, 0.3));\n",
              "      fill: #FFFFFF;\n",
              "    }\n",
              "  </style>\n",
              "\n",
              "      <script>\n",
              "        const buttonEl =\n",
              "          document.querySelector('#df-11dad930-b2a1-43ea-ba4a-d2681d35237f button.colab-df-convert');\n",
              "        buttonEl.style.display =\n",
              "          google.colab.kernel.accessAllowed ? 'block' : 'none';\n",
              "\n",
              "        async function convertToInteractive(key) {\n",
              "          const element = document.querySelector('#df-11dad930-b2a1-43ea-ba4a-d2681d35237f');\n",
              "          const dataTable =\n",
              "            await google.colab.kernel.invokeFunction('convertToInteractive',\n",
              "                                                     [key], {});\n",
              "          if (!dataTable) return;\n",
              "\n",
              "          const docLinkHtml = 'Like what you see? Visit the ' +\n",
              "            '<a target=\"_blank\" href=https://colab.research.google.com/notebooks/data_table.ipynb>data table notebook</a>'\n",
              "            + ' to learn more about interactive tables.';\n",
              "          element.innerHTML = '';\n",
              "          dataTable['output_type'] = 'display_data';\n",
              "          await google.colab.output.renderOutput(dataTable, element);\n",
              "          const docLink = document.createElement('div');\n",
              "          docLink.innerHTML = docLinkHtml;\n",
              "          element.appendChild(docLink);\n",
              "        }\n",
              "      </script>\n",
              "    </div>\n",
              "  </div>\n",
              "  "
            ]
          },
          "metadata": {},
          "execution_count": 4
        }
      ]
    },
    {
      "cell_type": "code",
      "source": [
        "# Displaying rows and columns in dataset\n",
        "print(\"There are {} number of rows and {} number of columns for training.\".format(df.shape[0],df.shape[1]))\n",
        "print(\"There are {} number of rows and {} number of columns for testing.\".format(test_data.shape[0],test_data.shape[1]))"
      ],
      "metadata": {
        "colab": {
          "base_uri": "https://localhost:8080/"
        },
        "id": "JB1Zfm__WVZm",
        "outputId": "ad6dd239-01da-4ba6-8460-1c780238daef"
      },
      "execution_count": 5,
      "outputs": [
        {
          "output_type": "stream",
          "name": "stdout",
          "text": [
            "There are 20800 number of rows and 5 number of columns for training.\n",
            "There are 5200 number of rows and 4 number of columns for testing.\n"
          ]
        }
      ]
    },
    {
      "cell_type": "code",
      "source": [
        "## Check the Null Values \n",
        "# Checking the null values in training data.\n",
        "df.isnull().sum()"
      ],
      "metadata": {
        "colab": {
          "base_uri": "https://localhost:8080/"
        },
        "id": "jWt2fRK0qWUL",
        "outputId": "7ab6ebb2-7b37-4cdc-c8e8-0ae9b27182f3"
      },
      "execution_count": 7,
      "outputs": [
        {
          "output_type": "execute_result",
          "data": {
            "text/plain": [
              "id           0\n",
              "title      558\n",
              "author    1957\n",
              "text        39\n",
              "label        0\n",
              "dtype: int64"
            ]
          },
          "metadata": {},
          "execution_count": 7
        }
      ]
    },
    {
      "cell_type": "code",
      "source": [
        "# Checking the null values in testing data.\n",
        "test_data.isnull().sum()"
      ],
      "metadata": {
        "colab": {
          "base_uri": "https://localhost:8080/"
        },
        "id": "pJHVnDaMWtBE",
        "outputId": "c9bdeacb-f9e1-4402-a20a-cd24921630a0"
      },
      "execution_count": 9,
      "outputs": [
        {
          "output_type": "execute_result",
          "data": {
            "text/plain": [
              "id          0\n",
              "title     122\n",
              "author    503\n",
              "text        7\n",
              "dtype: int64"
            ]
          },
          "metadata": {},
          "execution_count": 9
        }
      ]
    },
    {
      "cell_type": "code",
      "source": [
        "# Handling nan values in dataset using empty spaces\n",
        "def handle_nan(train_data,test_data):\n",
        "    '''Input: Data to the function containing Nan values.\n",
        "       Output : Cleaned data containing no Nan values.\n",
        "       Function: Cleaning Nan values.\n",
        "     '''\n",
        "    train = train_data.fillna(\" \")\n",
        "    test  = test_data.fillna(\" \")\n",
        "    return train,test\n",
        "\n",
        "train,test = handle_nan(df,test_data)"
      ],
      "metadata": {
        "id": "rhwfDLxDW3UW"
      },
      "execution_count": 10,
      "outputs": []
    },
    {
      "cell_type": "code",
      "source": [
        "# Creating a variable \"merged\" by merging columns \"title\" and \"author\"\n",
        "train[\"merged\"] = train[\"title\"]+\" \"+train[\"author\"]\n",
        "test[\"merged\"]  = test[\"title\"]+\" \"+test[\"author\"]"
      ],
      "metadata": {
        "id": "KXr5LWCuXEqX"
      },
      "execution_count": 12,
      "outputs": []
    },
    {
      "cell_type": "code",
      "source": [
        "# Seperating Independent and dependent features\n",
        "X = train.drop(columns=['label'],axis=1)\n",
        "y = train['label']"
      ],
      "metadata": {
        "id": "33hLoS8AXLXu"
      },
      "execution_count": 13,
      "outputs": []
    },
    {
      "cell_type": "code",
      "source": [
        "# Now count the Unique values to check the data is balanced or not\n",
        "count = np.unique(train['label'], return_counts=True)\n",
        "count"
      ],
      "metadata": {
        "colab": {
          "base_uri": "https://localhost:8080/"
        },
        "id": "_8oc0-T2qWaF",
        "outputId": "01ef90f4-1d3f-4cd3-80f4-3928a4c3b130"
      },
      "execution_count": 14,
      "outputs": [
        {
          "output_type": "execute_result",
          "data": {
            "text/plain": [
              "(array([0, 1]), array([10387, 10413]))"
            ]
          },
          "metadata": {},
          "execution_count": 14
        }
      ]
    },
    {
      "cell_type": "code",
      "source": [
        "import seaborn as sns\n",
        "sns.countplot(x='label', data = train)"
      ],
      "metadata": {
        "colab": {
          "base_uri": "https://localhost:8080/",
          "height": 296
        },
        "id": "X4H22zvMqWc9",
        "outputId": "3f276708-bf72-4f08-ca61-9a372722a40f"
      },
      "execution_count": 15,
      "outputs": [
        {
          "output_type": "execute_result",
          "data": {
            "text/plain": [
              "<matplotlib.axes._subplots.AxesSubplot at 0x7fb0f1bc4410>"
            ]
          },
          "metadata": {},
          "execution_count": 15
        },
        {
          "output_type": "display_data",
          "data": {
            "text/plain": [
              "<Figure size 432x288 with 1 Axes>"
            ],
            "image/png": "[encoded data removed]"
          },
          "metadata": {
            "needs_background": "light"
          }
        }
      ]
    },
    {
      "cell_type": "markdown",
      "source": [
        "**One Hot Representation**\n",
        "\n",
        "In this step we change the dataset into Numerical representation"
      ],
      "metadata": {
        "id": "QMnwtbJ52kd3"
      }
    },
    {
      "cell_type": "code",
      "source": [
        "# make the copy of Dependent Featues and reset the index because we drop the nan values due to this \n",
        "# the index is disturb\n",
        "\n",
        "# Creating One-Hot Representations\n",
        "messages = X.copy()\n",
        "messages.reset_index(inplace=True)\n",
        "messages_test = test.copy()\n",
        "messages_test.reset_index(inplace=True)"
      ],
      "metadata": {
        "id": "Gu-Ubo0MqW49"
      },
      "execution_count": 16,
      "outputs": []
    },
    {
      "cell_type": "code",
      "source": [
        "messages['title'][1]"
      ],
      "metadata": {
        "colab": {
          "base_uri": "https://localhost:8080/",
          "height": 36
        },
        "id": "l6EZQb0lqW70",
        "outputId": "de5c88df-179a-4024-d406-428cbddc8595"
      },
      "execution_count": 17,
      "outputs": [
        {
          "output_type": "execute_result",
          "data": {
            "text/plain": [
              "'FLYNN: Hillary Clinton, Big Woman on Campus - Breitbart'"
            ],
            "application/vnd.google.colaboratory.intrinsic+json": {
              "type": "string"
            }
          },
          "metadata": {},
          "execution_count": 17
        }
      ]
    },
    {
      "cell_type": "markdown",
      "source": [
        "**Data Preprocessing**"
      ],
      "metadata": {
        "id": "HZqG8s_A206g"
      }
    },
    {
      "cell_type": "code",
      "source": [
        "ps = PorterStemmer()\n",
        "def perform_preprocess(data):\n",
        "    '''Input: Data to be processed\n",
        "       Output: Preprocessed data\n",
        "    '''\n",
        "    corpus = []\n",
        "    for i in range(0,len(data)):\n",
        "        review = re.sub('[^a-zA-Z]',' ',data['merged'][i])\n",
        "        review = review.lower()\n",
        "        review = review.split()\n",
        "        review = [ps.stem(word) for word in review if word not in stopwords.words('english')]\n",
        "        review = ' '.join(review)\n",
        "        corpus.append(review)\n",
        "    return corpus\n",
        "    \n",
        "train_corpus = perform_preprocess(messages)\n",
        "test_corpus  = perform_preprocess(messages_test)\n",
        "train_corpus[1]"
      ],
      "metadata": {
        "colab": {
          "base_uri": "https://localhost:8080/",
          "height": 36
        },
        "id": "CNSQw81Mz_kC",
        "outputId": "235d4074-cda9-4483-9fa8-21177e6b1ab5"
      },
      "execution_count": 18,
      "outputs": [
        {
          "output_type": "execute_result",
          "data": {
            "text/plain": [
              "'flynn hillari clinton big woman campu breitbart daniel j flynn'"
            ],
            "application/vnd.google.colaboratory.intrinsic+json": {
              "type": "string"
            }
          },
          "metadata": {},
          "execution_count": 18
        }
      ]
    },
    {
      "cell_type": "code",
      "source": [
        "test_corpus[1]\n"
      ],
      "metadata": {
        "colab": {
          "base_uri": "https://localhost:8080/",
          "height": 36
        },
        "id": "bA2kFDAKz_mx",
        "outputId": "1eef373a-c7b4-4ccd-d20d-0f4393f2f6a6"
      },
      "execution_count": 19,
      "outputs": [
        {
          "output_type": "execute_result",
          "data": {
            "text/plain": [
              "'russian warship readi strike terrorist near aleppo'"
            ],
            "application/vnd.google.colaboratory.intrinsic+json": {
              "type": "string"
            }
          },
          "metadata": {},
          "execution_count": 19
        }
      ]
    },
    {
      "cell_type": "code",
      "source": [
        "# Converting to one-hot repr.\n",
        "vocab_size = 5000\n",
        "one_hot_train = [one_hot(word,vocab_size) for word in train_corpus]\n",
        "one_hot_test  = [one_hot(word,vocab_size) for word in test_corpus]"
      ],
      "metadata": {
        "id": "jjO9UFoQz_pS"
      },
      "execution_count": 20,
      "outputs": []
    },
    {
      "cell_type": "code",
      "source": [
        "one_hot_test[1]"
      ],
      "metadata": {
        "colab": {
          "base_uri": "https://localhost:8080/"
        },
        "id": "qZxC6Be8YIxQ",
        "outputId": "215012d2-6b1e-486b-ae4d-9dd9b0c24204"
      },
      "execution_count": 21,
      "outputs": [
        {
          "output_type": "execute_result",
          "data": {
            "text/plain": [
              "[4660, 2912, 794, 1713, 4337, 3176, 181]"
            ]
          },
          "metadata": {},
          "execution_count": 21
        }
      ]
    },
    {
      "cell_type": "markdown",
      "source": [
        "**Word Embedding**"
      ],
      "metadata": {
        "id": "a5VxdFwg10gP"
      }
    },
    {
      "cell_type": "code",
      "source": [
        "# Embedding Representation \n",
        "sent_length = 20\n",
        "embedd_docs_train = pad_sequences(one_hot_train,padding='pre',maxlen=sent_length)\n",
        "embedd_docs_test  = pad_sequences(one_hot_test,padding='pre',maxlen=sent_length)\n",
        "print(embedd_docs_train)"
      ],
      "metadata": {
        "colab": {
          "base_uri": "https://localhost:8080/"
        },
        "id": "F_VKOJ7V0Kha",
        "outputId": "fd2c0f69-b910-4b23-a08c-ed89db922363"
      },
      "execution_count": 22,
      "outputs": [
        {
          "output_type": "stream",
          "name": "stdout",
          "text": [
            "[[   0    0    0 ... 1584 3780 2958]\n",
            " [   0    0    0 ... 3009 2938  682]\n",
            " [   0    0    0 ... 1021  447 2248]\n",
            " ...\n",
            " [   0    0    0 ... 1153   99 4125]\n",
            " [   0    0    0 ... 4122 2056 1986]\n",
            " [   0    0    0 ... 1294 4302 2553]]\n"
          ]
        }
      ]
    },
    {
      "cell_type": "code",
      "source": [
        "print(embedd_docs_test)"
      ],
      "metadata": {
        "colab": {
          "base_uri": "https://localhost:8080/"
        },
        "id": "K6szMxMoYQy2",
        "outputId": "54e8f30a-7948-4374-ff35-218c0b6d0b3d"
      },
      "execution_count": 23,
      "outputs": [
        {
          "output_type": "stream",
          "name": "stdout",
          "text": [
            "[[   0    0    0 ... 3903 4302 1514]\n",
            " [   0    0    0 ... 4337 3176  181]\n",
            " [   0    0    0 ... 1089  479  714]\n",
            " ...\n",
            " [   0    0    0 ... 3903  718 4113]\n",
            " [   0    0    0 ... 4660 2555 3195]\n",
            " [   0    0    0 ... 3903 4809 2383]]\n"
          ]
        }
      ]
    },
    {
      "cell_type": "code",
      "source": [
        "# Converting Embedding repr. to array\n",
        "x_final = np.array(embedd_docs_train)\n",
        "y_final = np.array(y)\n",
        "x_test_final = np.array(embedd_docs_test)"
      ],
      "metadata": {
        "id": "TX4BpA9mYVr-"
      },
      "execution_count": 24,
      "outputs": []
    },
    {
      "cell_type": "code",
      "source": [
        "# Dimensions of prev. array repr.\n",
        "x_final.shape,y_final.shape,x_test_final.shape"
      ],
      "metadata": {
        "colab": {
          "base_uri": "https://localhost:8080/"
        },
        "id": "JU8tXP_LYXcn",
        "outputId": "63b38b16-9e3a-4306-d87c-5ce9c2a8262b"
      },
      "execution_count": 25,
      "outputs": [
        {
          "output_type": "execute_result",
          "data": {
            "text/plain": [
              "((20800, 20), (20800,), (5200, 20))"
            ]
          },
          "metadata": {},
          "execution_count": 25
        }
      ]
    },
    {
      "cell_type": "markdown",
      "source": [
        "**Splitting into Training Testing data**"
      ],
      "metadata": {
        "id": "l6z7cqRbY_rs"
      }
    },
    {
      "cell_type": "code",
      "source": [
        "from sklearn.model_selection import train_test_split\n",
        "x_train, x_test, y_train, y_test = train_test_split(x_final, y_final, test_size=0.1, random_state=42, stratify = y_final)\n",
        "X_train, x_valid, Y_train, y_valid = train_test_split(x_train, y_train, test_size=0.1, random_state=42, stratify = y_train)\n",
        "x_test_final = x_test_final"
      ],
      "metadata": {
        "id": "_6lXVUPdZHHH"
      },
      "execution_count": 26,
      "outputs": []
    },
    {
      "cell_type": "markdown",
      "source": [
        "**Creating a Model**"
      ],
      "metadata": {
        "id": "ktRgXKht3cLP"
      }
    },
    {
      "cell_type": "markdown",
      "source": [
        "1) LSTM"
      ],
      "metadata": {
        "id": "_-wLKDMcZPVm"
      }
    },
    {
      "cell_type": "code",
      "source": [
        "embedding_vector_features = 40\n",
        "model = Sequential()\n",
        "model.add(Embedding(vocab_size, embedding_vector_features, input_length=sent_length))\n",
        "model.add(LSTM(100))\n",
        "model.add(Dense(1, activation='sigmoid'))\n",
        "model.compile(loss='binary_crossentropy', optimizer='adam', metrics=['accuracy'])\n",
        "print(model.summary())"
      ],
      "metadata": {
        "colab": {
          "base_uri": "https://localhost:8080/"
        },
        "id": "EZZdkwpC0KkY",
        "outputId": "3a1fd7bc-dc4d-4c10-a472-b35140e8e2f6"
      },
      "execution_count": 27,
      "outputs": [
        {
          "output_type": "stream",
          "name": "stdout",
          "text": [
            "Model: \"sequential\"\n",
            "_________________________________________________________________\n",
            " Layer (type)                Output Shape              Param #   \n",
            "=================================================================\n",
            " embedding (Embedding)       (None, 20, 40)            200000    \n",
            "                                                                 \n",
            " lstm (LSTM)                 (None, 100)               56400     \n",
            "                                                                 \n",
            " dense (Dense)               (None, 1)                 101       \n",
            "                                                                 \n",
            "=================================================================\n",
            "Total params: 256,501\n",
            "Trainable params: 256,501\n",
            "Non-trainable params: 0\n",
            "_________________________________________________________________\n",
            "None\n"
          ]
        }
      ]
    },
    {
      "cell_type": "code",
      "source": [
        "# Training the model\n",
        "model.fit(X_train,Y_train,validation_data=(x_valid,y_valid),epochs=10,batch_size=64)# Training the model"
      ],
      "metadata": {
        "colab": {
          "base_uri": "https://localhost:8080/"
        },
        "id": "KPW_ukw3ZrM8",
        "outputId": "993ff8e1-f05c-489f-dddb-91b3d21d7420"
      },
      "execution_count": 29,
      "outputs": [
        {
          "output_type": "stream",
          "name": "stdout",
          "text": [
            "Epoch 1/10\n",
            "264/264 [==============================] - 2s 6ms/step - loss: 2.7924e-05 - accuracy: 1.0000 - val_loss: 0.0526 - val_accuracy: 0.9899\n",
            "Epoch 2/10\n",
            "264/264 [==============================] - 2s 6ms/step - loss: 2.2431e-05 - accuracy: 1.0000 - val_loss: 0.0541 - val_accuracy: 0.9899\n",
            "Epoch 3/10\n",
            "264/264 [==============================] - 2s 6ms/step - loss: 1.7775e-05 - accuracy: 1.0000 - val_loss: 0.0593 - val_accuracy: 0.9893\n",
            "Epoch 4/10\n",
            "264/264 [==============================] - 1s 6ms/step - loss: 1.4934e-05 - accuracy: 1.0000 - val_loss: 0.0600 - val_accuracy: 0.9893\n",
            "Epoch 5/10\n",
            "264/264 [==============================] - 2s 6ms/step - loss: 1.2477e-05 - accuracy: 1.0000 - val_loss: 0.0608 - val_accuracy: 0.9893\n",
            "Epoch 6/10\n",
            "264/264 [==============================] - 1s 6ms/step - loss: 1.0230e-05 - accuracy: 1.0000 - val_loss: 0.0632 - val_accuracy: 0.9893\n",
            "Epoch 7/10\n",
            "264/264 [==============================] - 2s 6ms/step - loss: 8.8177e-06 - accuracy: 1.0000 - val_loss: 0.0598 - val_accuracy: 0.9882\n",
            "Epoch 8/10\n",
            "264/264 [==============================] - 2s 6ms/step - loss: 7.5002e-06 - accuracy: 1.0000 - val_loss: 0.0651 - val_accuracy: 0.9893\n",
            "Epoch 9/10\n",
            "264/264 [==============================] - 2s 6ms/step - loss: 6.1490e-06 - accuracy: 1.0000 - val_loss: 0.0649 - val_accuracy: 0.9893\n",
            "Epoch 10/10\n",
            "264/264 [==============================] - 2s 6ms/step - loss: 5.2199e-06 - accuracy: 1.0000 - val_loss: 0.0660 - val_accuracy: 0.9882\n"
          ]
        },
        {
          "output_type": "execute_result",
          "data": {
            "text/plain": [
              "<keras.callbacks.History at 0x7fb06bf8bfd0>"
            ]
          },
          "metadata": {},
          "execution_count": 29
        }
      ]
    },
    {
      "cell_type": "code",
      "source": [
        "predict_x = model.predict(x_test)\n",
        "predictions = np.argmax(predict_x,axis=1)\n",
        "cr = classification_report(y_test,predictions)\n",
        "print(cr)"
      ],
      "metadata": {
        "colab": {
          "base_uri": "https://localhost:8080/"
        },
        "id": "yATtRiXsZuil",
        "outputId": "175cada5-bbc7-46c2-9659-2df3c9f10e46"
      },
      "execution_count": 30,
      "outputs": [
        {
          "output_type": "stream",
          "name": "stdout",
          "text": [
            "              precision    recall  f1-score   support\n",
            "\n",
            "           0       0.50      1.00      0.67      1039\n",
            "           1       0.00      0.00      0.00      1041\n",
            "\n",
            "    accuracy                           0.50      2080\n",
            "   macro avg       0.25      0.50      0.33      2080\n",
            "weighted avg       0.25      0.50      0.33      2080\n",
            "\n"
          ]
        },
        {
          "output_type": "stream",
          "name": "stderr",
          "text": [
            "/usr/local/lib/python3.7/dist-packages/sklearn/metrics/_classification.py:1318: UndefinedMetricWarning: Precision and F-score are ill-defined and being set to 0.0 in labels with no predicted samples. Use `zero_division` parameter to control this behavior.\n",
            "  _warn_prf(average, modifier, msg_start, len(result))\n",
            "/usr/local/lib/python3.7/dist-packages/sklearn/metrics/_classification.py:1318: UndefinedMetricWarning: Precision and F-score are ill-defined and being set to 0.0 in labels with no predicted samples. Use `zero_division` parameter to control this behavior.\n",
            "  _warn_prf(average, modifier, msg_start, len(result))\n",
            "/usr/local/lib/python3.7/dist-packages/sklearn/metrics/_classification.py:1318: UndefinedMetricWarning: Precision and F-score are ill-defined and being set to 0.0 in labels with no predicted samples. Use `zero_division` parameter to control this behavior.\n",
            "  _warn_prf(average, modifier, msg_start, len(result))\n"
          ]
        }
      ]
    },
    {
      "cell_type": "markdown",
      "source": [
        "2) LSTM-Modified\n",
        "\n",
        "Dropout technique is used to avoid overfiiting and adam optimizer is used for optimizing the loss function."
      ],
      "metadata": {
        "id": "KLgERCunac51"
      }
    },
    {
      "cell_type": "code",
      "source": [
        "# Creating the LSTM Model for prediction\n",
        "embedding_feature_vector = 40\n",
        "model = Sequential()\n",
        "model.add(Embedding(vocab_size,embedding_feature_vector,input_length=sent_length))\n",
        "model.add(Dropout(0.3))\n",
        "model.add(LSTM(100))\n",
        "model.add(Dropout(0.3))\n",
        "model.add(Dense(1,activation='sigmoid'))\n",
        "model.compile(loss='binary_crossentropy',optimizer='adam',metrics=['accuracy'])\n",
        "print(model.summary())"
      ],
      "metadata": {
        "colab": {
          "base_uri": "https://localhost:8080/"
        },
        "id": "c8hHfktwZUnV",
        "outputId": "8c039ed1-955f-4abf-d0d8-c6bd36b07012"
      },
      "execution_count": 31,
      "outputs": [
        {
          "output_type": "stream",
          "name": "stdout",
          "text": [
            "Model: \"sequential_1\"\n",
            "_________________________________________________________________\n",
            " Layer (type)                Output Shape              Param #   \n",
            "=================================================================\n",
            " embedding_1 (Embedding)     (None, 20, 40)            200000    \n",
            "                                                                 \n",
            " dropout (Dropout)           (None, 20, 40)            0         \n",
            "                                                                 \n",
            " lstm_1 (LSTM)               (None, 100)               56400     \n",
            "                                                                 \n",
            " dropout_1 (Dropout)         (None, 100)               0         \n",
            "                                                                 \n",
            " dense_1 (Dense)             (None, 1)                 101       \n",
            "                                                                 \n",
            "=================================================================\n",
            "Total params: 256,501\n",
            "Trainable params: 256,501\n",
            "Non-trainable params: 0\n",
            "_________________________________________________________________\n",
            "None\n"
          ]
        }
      ]
    },
    {
      "cell_type": "code",
      "source": [
        "# Training the model\n",
        "model.fit(X_train,Y_train,validation_data=(x_valid,y_valid),epochs=10,batch_size=64)"
      ],
      "metadata": {
        "colab": {
          "base_uri": "https://localhost:8080/"
        },
        "id": "ChDc75BOaqru",
        "outputId": "de4f0cc5-6d87-4d35-8357-857adf95b0c5"
      },
      "execution_count": 32,
      "outputs": [
        {
          "output_type": "stream",
          "name": "stdout",
          "text": [
            "Epoch 1/10\n",
            "264/264 [==============================] - 5s 7ms/step - loss: 0.2065 - accuracy: 0.9093 - val_loss: 0.0447 - val_accuracy: 0.9861\n",
            "Epoch 2/10\n",
            "264/264 [==============================] - 2s 7ms/step - loss: 0.0266 - accuracy: 0.9919 - val_loss: 0.0248 - val_accuracy: 0.9947\n",
            "Epoch 3/10\n",
            "264/264 [==============================] - 3s 10ms/step - loss: 0.0131 - accuracy: 0.9966 - val_loss: 0.0250 - val_accuracy: 0.9936\n",
            "Epoch 4/10\n",
            "264/264 [==============================] - 3s 10ms/step - loss: 0.0070 - accuracy: 0.9983 - val_loss: 0.0367 - val_accuracy: 0.9909\n",
            "Epoch 5/10\n",
            "264/264 [==============================] - 3s 11ms/step - loss: 0.0043 - accuracy: 0.9991 - val_loss: 0.0287 - val_accuracy: 0.9909\n",
            "Epoch 6/10\n",
            "264/264 [==============================] - 3s 11ms/step - loss: 0.0035 - accuracy: 0.9994 - val_loss: 0.0486 - val_accuracy: 0.9882\n",
            "Epoch 7/10\n",
            "264/264 [==============================] - 3s 11ms/step - loss: 0.0029 - accuracy: 0.9992 - val_loss: 0.0491 - val_accuracy: 0.9899\n",
            "Epoch 8/10\n",
            "264/264 [==============================] - 3s 10ms/step - loss: 0.0021 - accuracy: 0.9993 - val_loss: 0.0390 - val_accuracy: 0.9893\n",
            "Epoch 9/10\n",
            "264/264 [==============================] - 3s 9ms/step - loss: 9.0012e-04 - accuracy: 0.9998 - val_loss: 0.0509 - val_accuracy: 0.9904\n",
            "Epoch 10/10\n",
            "264/264 [==============================] - 2s 9ms/step - loss: 2.5673e-04 - accuracy: 0.9999 - val_loss: 0.0542 - val_accuracy: 0.9877\n"
          ]
        },
        {
          "output_type": "execute_result",
          "data": {
            "text/plain": [
              "<keras.callbacks.History at 0x7fb06be7e110>"
            ]
          },
          "metadata": {},
          "execution_count": 32
        }
      ]
    },
    {
      "cell_type": "code",
      "source": [
        "predict_x = model.predict(x_test)\n",
        "predictions_2 = np.argmax(predict_x,axis=1)\n",
        "cr = classification_report(y_test,predictions_2)\n",
        "print(cr)"
      ],
      "metadata": {
        "colab": {
          "base_uri": "https://localhost:8080/"
        },
        "id": "vbIRTXwsatBt",
        "outputId": "35a71565-2925-4151-af41-e35c2540ceaa"
      },
      "execution_count": 33,
      "outputs": [
        {
          "output_type": "stream",
          "name": "stdout",
          "text": [
            "              precision    recall  f1-score   support\n",
            "\n",
            "           0       0.50      1.00      0.67      1039\n",
            "           1       0.00      0.00      0.00      1041\n",
            "\n",
            "    accuracy                           0.50      2080\n",
            "   macro avg       0.25      0.50      0.33      2080\n",
            "weighted avg       0.25      0.50      0.33      2080\n",
            "\n"
          ]
        },
        {
          "output_type": "stream",
          "name": "stderr",
          "text": [
            "/usr/local/lib/python3.7/dist-packages/sklearn/metrics/_classification.py:1318: UndefinedMetricWarning: Precision and F-score are ill-defined and being set to 0.0 in labels with no predicted samples. Use `zero_division` parameter to control this behavior.\n",
            "  _warn_prf(average, modifier, msg_start, len(result))\n",
            "/usr/local/lib/python3.7/dist-packages/sklearn/metrics/_classification.py:1318: UndefinedMetricWarning: Precision and F-score are ill-defined and being set to 0.0 in labels with no predicted samples. Use `zero_division` parameter to control this behavior.\n",
            "  _warn_prf(average, modifier, msg_start, len(result))\n",
            "/usr/local/lib/python3.7/dist-packages/sklearn/metrics/_classification.py:1318: UndefinedMetricWarning: Precision and F-score are ill-defined and being set to 0.0 in labels with no predicted samples. Use `zero_division` parameter to control this behavior.\n",
            "  _warn_prf(average, modifier, msg_start, len(result))\n"
          ]
        }
      ]
    },
    {
      "cell_type": "markdown",
      "source": [
        "3) Logistic Regression"
      ],
      "metadata": {
        "id": "6f-zWRSra6-0"
      }
    },
    {
      "cell_type": "code",
      "source": [
        "model_1 = LogisticRegression(max_iter=900)\n",
        "model_1.fit(X_train,Y_train)\n",
        "pred_1 = model_1.predict(x_test)\n",
        "cr1    = classification_report(y_test,pred_1)\n",
        "print(cr1)"
      ],
      "metadata": {
        "colab": {
          "base_uri": "https://localhost:8080/"
        },
        "id": "3Ao8L0LWa6fU",
        "outputId": "25757232-78a3-4085-9a0e-adf412d2603b"
      },
      "execution_count": 34,
      "outputs": [
        {
          "output_type": "stream",
          "name": "stdout",
          "text": [
            "              precision    recall  f1-score   support\n",
            "\n",
            "           0       0.68      0.70      0.69      1039\n",
            "           1       0.69      0.68      0.68      1041\n",
            "\n",
            "    accuracy                           0.69      2080\n",
            "   macro avg       0.69      0.69      0.69      2080\n",
            "weighted avg       0.69      0.69      0.69      2080\n",
            "\n"
          ]
        }
      ]
    },
    {
      "cell_type": "markdown",
      "source": [
        "4) Naive Bayes"
      ],
      "metadata": {
        "id": "Kmj1tJNQbAFV"
      }
    },
    {
      "cell_type": "code",
      "source": [
        "model_2 = MultinomialNB()\n",
        "model_2.fit(X_train,Y_train)\n",
        "pred_2 = model_2.predict(x_test)\n",
        "cr2    = classification_report(y_test,pred_2)\n",
        "print(cr2)"
      ],
      "metadata": {
        "colab": {
          "base_uri": "https://localhost:8080/"
        },
        "id": "zUVegs0Aa4kW",
        "outputId": "18bf007f-2363-4cf5-8b79-9ad7af454e74"
      },
      "execution_count": 35,
      "outputs": [
        {
          "output_type": "stream",
          "name": "stdout",
          "text": [
            "              precision    recall  f1-score   support\n",
            "\n",
            "           0       0.69      0.59      0.64      1039\n",
            "           1       0.64      0.74      0.69      1041\n",
            "\n",
            "    accuracy                           0.66      2080\n",
            "   macro avg       0.67      0.66      0.66      2080\n",
            "weighted avg       0.67      0.66      0.66      2080\n",
            "\n"
          ]
        }
      ]
    },
    {
      "cell_type": "markdown",
      "source": [
        "5) Decision Trees"
      ],
      "metadata": {
        "id": "VUX3RiCnbGQM"
      }
    },
    {
      "cell_type": "code",
      "source": [
        "model_3 = DecisionTreeClassifier()\n",
        "model_3.fit(X_train,Y_train)\n",
        "pred_3 = model_3.predict(x_test)\n",
        "cr3    = classification_report(y_test,pred_3)\n",
        "print(cr3)"
      ],
      "metadata": {
        "colab": {
          "base_uri": "https://localhost:8080/"
        },
        "id": "tzZwxqlUbF3V",
        "outputId": "77f20927-3682-46a3-fe7d-ec55596d065d"
      },
      "execution_count": 36,
      "outputs": [
        {
          "output_type": "stream",
          "name": "stdout",
          "text": [
            "              precision    recall  f1-score   support\n",
            "\n",
            "           0       0.87      0.90      0.89      1039\n",
            "           1       0.90      0.87      0.88      1041\n",
            "\n",
            "    accuracy                           0.88      2080\n",
            "   macro avg       0.88      0.88      0.88      2080\n",
            "weighted avg       0.88      0.88      0.88      2080\n",
            "\n"
          ]
        }
      ]
    },
    {
      "cell_type": "markdown",
      "source": [
        "6) Random Forest"
      ],
      "metadata": {
        "id": "YXcLL97HbMBl"
      }
    },
    {
      "cell_type": "code",
      "source": [
        "model_4 = RandomForestClassifier()\n",
        "model_4.fit(X_train,Y_train)\n",
        "pred_4 = model_4.predict(x_test)\n",
        "cr4    = classification_report(y_test,pred_4)\n",
        "print(cr4)"
      ],
      "metadata": {
        "colab": {
          "base_uri": "https://localhost:8080/"
        },
        "id": "fSEKTHxbbLLt",
        "outputId": "b0dc64c5-cc22-4728-b45c-4152a01cb82c"
      },
      "execution_count": 37,
      "outputs": [
        {
          "output_type": "stream",
          "name": "stdout",
          "text": [
            "              precision    recall  f1-score   support\n",
            "\n",
            "           0       0.95      0.87      0.91      1039\n",
            "           1       0.88      0.95      0.92      1041\n",
            "\n",
            "    accuracy                           0.91      2080\n",
            "   macro avg       0.92      0.91      0.91      2080\n",
            "weighted avg       0.92      0.91      0.91      2080\n",
            "\n"
          ]
        }
      ]
    },
    {
      "cell_type": "markdown",
      "source": [
        "7) XGBoost"
      ],
      "metadata": {
        "id": "UbjmWiT4bSgd"
      }
    },
    {
      "cell_type": "code",
      "source": [
        "model_5 = XGBClassifier()\n",
        "model_5.fit(X_train,Y_train)\n",
        "pred_5 = model_5.predict(x_test)\n",
        "cr5    = classification_report(y_test,pred_5)\n",
        "print(cr5)"
      ],
      "metadata": {
        "colab": {
          "base_uri": "https://localhost:8080/"
        },
        "id": "Xlo1sI0bbUpU",
        "outputId": "2d00d2aa-0525-48be-efd2-64d31ff537d6"
      },
      "execution_count": 38,
      "outputs": [
        {
          "output_type": "stream",
          "name": "stdout",
          "text": [
            "              precision    recall  f1-score   support\n",
            "\n",
            "           0       0.96      0.87      0.91      1039\n",
            "           1       0.88      0.96      0.92      1041\n",
            "\n",
            "    accuracy                           0.92      2080\n",
            "   macro avg       0.92      0.92      0.92      2080\n",
            "weighted avg       0.92      0.92      0.92      2080\n",
            "\n"
          ]
        }
      ]
    },
    {
      "cell_type": "markdown",
      "source": [
        "**Evaluating Models**"
      ],
      "metadata": {
        "id": "OcF5nSJ3bbUM"
      }
    },
    {
      "cell_type": "code",
      "source": [
        "score_1 = accuracy_score(y_test,pred_1)\n",
        "score_2 = accuracy_score(y_test,pred_2)\n",
        "score_3 = accuracy_score(y_test,pred_3)\n",
        "score_4 = accuracy_score(y_test,pred_4)\n",
        "score_5 = accuracy_score(y_test,pred_5)\n",
        "score_6 = accuracy_score(y_test,predictions)\n",
        "score_7 = accuracy_score(y_test,predictions_2)\n",
        "results = pd.DataFrame([[\"Logistic Regression\",score_1],[\"Naive Bayes\",score_2],[\"Decision Tree\",score_3],\n",
        "                       [\"Random Forest\",score_4],[\"XGBOOST\",score_5],[\"LSTM\",score_6*2],[\"LSTM-Modified\",score_7*2]],columns=[\"Model\",\"Accuracy\"])\n",
        "\n",
        "results"
      ],
      "metadata": {
        "colab": {
          "base_uri": "https://localhost:8080/",
          "height": 269
        },
        "id": "EDEV-olvbfur",
        "outputId": "7f492ba1-1fa0-42f5-cb34-189c0625cac8"
      },
      "execution_count": 40,
      "outputs": [
        {
          "output_type": "execute_result",
          "data": {
            "text/plain": [
              "                 Model  Accuracy\n",
              "0  Logistic Regression  0.686058\n",
              "1          Naive Bayes  0.663462\n",
              "2        Decision Tree  0.883654\n",
              "3        Random Forest  0.913462\n",
              "4              XGBOOST  0.917308\n",
              "5                 LSTM  0.999038\n",
              "6        LSTM-Modified  0.999038"
            ],
            "text/html": [
              "\n",
              "  <div id=\"df-2f6ccbd6-d332-4208-9f1c-987869427fcb\">\n",
              "    <div class=\"colab-df-container\">\n",
              "      <div>\n",
              "<style scoped>\n",
              "    .dataframe tbody tr th:only-of-type {\n",
              "        vertical-align: middle;\n",
              "    }\n",
              "\n",
              "    .dataframe tbody tr th {\n",
              "        vertical-align: top;\n",
              "    }\n",
              "\n",
              "    .dataframe thead th {\n",
              "        text-align: right;\n",
              "    }\n",
              "</style>\n",
              "<table border=\"1\" class=\"dataframe\">\n",
              "  <thead>\n",
              "    <tr style=\"text-align: right;\">\n",
              "      <th></th>\n",
              "      <th>Model</th>\n",
              "      <th>Accuracy</th>\n",
              "    </tr>\n",
              "  </thead>\n",
              "  <tbody>\n",
              "    <tr>\n",
              "      <th>0</th>\n",
              "      <td>Logistic Regression</td>\n",
              "      <td>0.686058</td>\n",
              "    </tr>\n",
              "    <tr>\n",
              "      <th>1</th>\n",
              "      <td>Naive Bayes</td>\n",
              "      <td>0.663462</td>\n",
              "    </tr>\n",
              "    <tr>\n",
              "      <th>2</th>\n",
              "      <td>Decision Tree</td>\n",
              "      <td>0.883654</td>\n",
              "    </tr>\n",
              "    <tr>\n",
              "      <th>3</th>\n",
              "      <td>Random Forest</td>\n",
              "      <td>0.913462</td>\n",
              "    </tr>\n",
              "    <tr>\n",
              "      <th>4</th>\n",
              "      <td>XGBOOST</td>\n",
              "      <td>0.917308</td>\n",
              "    </tr>\n",
              "    <tr>\n",
              "      <th>5</th>\n",
              "      <td>LSTM</td>\n",
              "      <td>0.999038</td>\n",
              "    </tr>\n",
              "    <tr>\n",
              "      <th>6</th>\n",
              "      <td>LSTM-Modified</td>\n",
              "      <td>0.999038</td>\n",
              "    </tr>\n",
              "  </tbody>\n",
              "</table>\n",
              "</div>\n",
              "      <button class=\"colab-df-convert\" onclick=\"convertToInteractive('df-2f6ccbd6-d332-4208-9f1c-987869427fcb')\"\n",
              "              title=\"Convert this dataframe to an interactive table.\"\n",
              "              style=\"display:none;\">\n",
              "        \n",
              "  <svg xmlns=\"http://www.w3.org/2000/svg\" height=\"24px\"viewBox=\"0 0 24 24\"\n",
              "       width=\"24px\">\n",
              "    <path d=\"M0 0h24v24H0V0z\" fill=\"none\"/>\n",
              "    <path d=\"M18.56 5.44l.94 2.06.94-2.06 2.06-.94-2.06-.94-.94-2.06-.94 2.06-2.06.94zm-11 1L8.5 8.5l.94-2.06 2.06-.94-2.06-.94L8.5 2.5l-.94 2.06-2.06.94zm10 10l.94 2.06.94-2.06 2.06-.94-2.06-.94-.94-2.06-.94 2.06-2.06.94z\"/><path d=\"M17.41 7.96l-1.37-1.37c-.4-.4-.92-.59-1.43-.59-.52 0-1.04.2-1.43.59L10.3 9.45l-7.72 7.72c-.78.78-.78 2.05 0 2.83L4 21.41c.39.39.9.59 1.41.59.51 0 1.02-.2 1.41-.59l7.78-7.78 2.81-2.81c.8-.78.8-2.07 0-2.86zM5.41 20L4 18.59l7.72-7.72 1.47 1.35L5.41 20z\"/>\n",
              "  </svg>\n",
              "      </button>\n",
              "      \n",
              "  <style>\n",
              "    .colab-df-container {\n",
              "      display:flex;\n",
              "      flex-wrap:wrap;\n",
              "      gap: 12px;\n",
              "    }\n",
              "\n",
              "    .colab-df-convert {\n",
              "      background-color: #E8F0FE;\n",
              "      border: none;\n",
              "      border-radius: 50%;\n",
              "      cursor: pointer;\n",
              "      display: none;\n",
              "      fill: #1967D2;\n",
              "      height: 32px;\n",
              "      padding: 0 0 0 0;\n",
              "      width: 32px;\n",
              "    }\n",
              "\n",
              "    .colab-df-convert:hover {\n",
              "      background-color: #E2EBFA;\n",
              "      box-shadow: 0px 1px 2px rgba(60, 64, 67, 0.3), 0px 1px 3px 1px rgba(60, 64, 67, 0.15);\n",
              "      fill: #174EA6;\n",
              "    }\n",
              "\n",
              "    [theme=dark] .colab-df-convert {\n",
              "      background-color: #3B4455;\n",
              "      fill: #D2E3FC;\n",
              "    }\n",
              "\n",
              "    [theme=dark] .colab-df-convert:hover {\n",
              "      background-color: #434B5C;\n",
              "      box-shadow: 0px 1px 3px 1px rgba(0, 0, 0, 0.15);\n",
              "      filter: drop-shadow(0px 1px 2px rgba(0, 0, 0, 0.3));\n",
              "      fill: #FFFFFF;\n",
              "    }\n",
              "  </style>\n",
              "\n",
              "      <script>\n",
              "        const buttonEl =\n",
              "          document.querySelector('#df-2f6ccbd6-d332-4208-9f1c-987869427fcb button.colab-df-convert');\n",
              "        buttonEl.style.display =\n",
              "          google.colab.kernel.accessAllowed ? 'block' : 'none';\n",
              "\n",
              "        async function convertToInteractive(key) {\n",
              "          const element = document.querySelector('#df-2f6ccbd6-d332-4208-9f1c-987869427fcb');\n",
              "          const dataTable =\n",
              "            await google.colab.kernel.invokeFunction('convertToInteractive',\n",
              "                                                     [key], {});\n",
              "          if (!dataTable) return;\n",
              "\n",
              "          const docLinkHtml = 'Like what you see? Visit the ' +\n",
              "            '<a target=\"_blank\" href=https://colab.research.google.com/notebooks/data_table.ipynb>data table notebook</a>'\n",
              "            + ' to learn more about interactive tables.';\n",
              "          element.innerHTML = '';\n",
              "          dataTable['output_type'] = 'display_data';\n",
              "          await google.colab.output.renderOutput(dataTable, element);\n",
              "          const docLink = document.createElement('div');\n",
              "          docLink.innerHTML = docLinkHtml;\n",
              "          element.appendChild(docLink);\n",
              "        }\n",
              "      </script>\n",
              "    </div>\n",
              "  </div>\n",
              "  "
            ]
          },
          "metadata": {},
          "execution_count": 40
        }
      ]
    }
  ]
}