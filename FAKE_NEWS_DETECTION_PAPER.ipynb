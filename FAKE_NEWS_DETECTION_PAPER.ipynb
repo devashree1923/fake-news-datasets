{
  "nbformat": 4,
  "nbformat_minor": 0,
  "metadata": {
    "colab": {
      "name": "FAKE-NEWS-DETECTION-PAPER.ipynb",
      "provenance": [],
      "collapsed_sections": [],
      "authorship_tag": "ABX9TyMKd3lzlij1dQwGIbuR32Y6",
      "include_colab_link": true
    },
    "kernelspec": {
      "name": "python3",
      "display_name": "Python 3"
    },
    "language_info": {
      "name": "python"
    },
    "accelerator": "GPU",
    "gpuClass": "standard"
  },
  "cells": [
    {
      "cell_type": "markdown",
      "metadata": {
        "id": "view-in-github",
        "colab_type": "text"
      },
      "source": [
        "<a href=\"https://colab.research.google.com/github/devashree1923/fake-news-datasets/blob/master/FAKE_NEWS_DETECTION_PAPER.ipynb\" target=\"_parent\"><img src=\"https://colab.research.google.com/assets/colab-badge.svg\" alt=\"Open In Colab\"/></a>"
      ]
    },
    {
      "cell_type": "code",
      "execution_count": 30,
      "metadata": {
        "colab": {
          "base_uri": "https://localhost:8080/"
        },
        "id": "zXn4RafjqQfr",
        "outputId": "94091d47-9731-43b7-9610-e9f45582e31d"
      },
      "outputs": [
        {
          "output_type": "stream",
          "name": "stderr",
          "text": [
            "[nltk_data] Downloading package stopwords to /root/nltk_data...\n",
            "[nltk_data]   Package stopwords is already up-to-date!\n"
          ]
        },
        {
          "output_type": "execute_result",
          "data": {
            "text/plain": [
              "True"
            ]
          },
          "metadata": {},
          "execution_count": 30
        }
      ],
      "source": [
        "## Import Libraries\n",
        "import pandas as pd\n",
        "import numpy as np\n",
        "import matplotlib.pyplot as plt\n",
        "import nltk\n",
        "from nltk.stem import PorterStemmer\n",
        "import re\n",
        "import tensorflow\n",
        "from tensorflow.keras.layers import Embedding, Dense, LSTM,Dropout, GlobalMaxPool1D#,Bidirectional,GRU\n",
        "from tensorflow.keras.preprocessing.sequence import pad_sequences\n",
        "from tensorflow.keras.models import Sequential\n",
        "from tensorflow.keras.preprocessing.text import one_hot\n",
        "from sklearn.metrics import classification_report,accuracy_score\n",
        "\n",
        "from sklearn.linear_model import LogisticRegression\n",
        "from sklearn.tree import DecisionTreeClassifier\n",
        "from sklearn.ensemble import RandomForestClassifier\n",
        "from xgboost import XGBClassifier\n",
        "from sklearn.naive_bayes import MultinomialNB\n",
        "\n",
        "from nltk.corpus import stopwords\n",
        "nltk.download('stopwords')"
      ]
    },
    {
      "cell_type": "code",
      "source": [
        "## This is the test Data\n",
        "test_data = pd.read_csv('/content/sample_data/test.csv')\n",
        "## Import dataset\n",
        "df = pd.read_csv('/content/sample_data/train.csv')"
      ],
      "metadata": {
        "id": "gRb4RSm1qWLW"
      },
      "execution_count": 2,
      "outputs": []
    },
    {
      "cell_type": "code",
      "source": [
        "test_data.head()"
      ],
      "metadata": {
        "colab": {
          "base_uri": "https://localhost:8080/",
          "height": 206
        },
        "id": "fYZon6rzqWOE",
        "outputId": "1b6570ba-f887-40a2-8656-ab53d2723935"
      },
      "execution_count": 3,
      "outputs": [
        {
          "output_type": "execute_result",
          "data": {
            "text/plain": [
              "      id                                              title  \\\n",
              "0  20800  Specter of Trump Loosens Tongues, if Not Purse...   \n",
              "1  20801  Russian warships ready to strike terrorists ne...   \n",
              "2  20802  #NoDAPL: Native American Leaders Vow to Stay A...   \n",
              "3  20803  Tim Tebow Will Attempt Another Comeback, This ...   \n",
              "4  20804                    Keiser Report: Meme Wars (E995)   \n",
              "\n",
              "                    author                                               text  \n",
              "0         David Streitfeld  PALO ALTO, Calif.  —   After years of scorning...  \n",
              "1                      NaN  Russian warships ready to strike terrorists ne...  \n",
              "2            Common Dreams  Videos #NoDAPL: Native American Leaders Vow to...  \n",
              "3            Daniel Victor  If at first you don’t succeed, try a different...  \n",
              "4  Truth Broadcast Network  42 mins ago 1 Views 0 Comments 0 Likes 'For th...  "
            ],
            "text/html": [
              "\n",
              "  <div id=\"df-5db1c164-d93c-42c8-a6f5-bbba2704de33\">\n",
              "    <div class=\"colab-df-container\">\n",
              "      <div>\n",
              "<style scoped>\n",
              "    .dataframe tbody tr th:only-of-type {\n",
              "        vertical-align: middle;\n",
              "    }\n",
              "\n",
              "    .dataframe tbody tr th {\n",
              "        vertical-align: top;\n",
              "    }\n",
              "\n",
              "    .dataframe thead th {\n",
              "        text-align: right;\n",
              "    }\n",
              "</style>\n",
              "<table border=\"1\" class=\"dataframe\">\n",
              "  <thead>\n",
              "    <tr style=\"text-align: right;\">\n",
              "      <th></th>\n",
              "      <th>id</th>\n",
              "      <th>title</th>\n",
              "      <th>author</th>\n",
              "      <th>text</th>\n",
              "    </tr>\n",
              "  </thead>\n",
              "  <tbody>\n",
              "    <tr>\n",
              "      <th>0</th>\n",
              "      <td>20800</td>\n",
              "      <td>Specter of Trump Loosens Tongues, if Not Purse...</td>\n",
              "      <td>David Streitfeld</td>\n",
              "      <td>PALO ALTO, Calif.  —   After years of scorning...</td>\n",
              "    </tr>\n",
              "    <tr>\n",
              "      <th>1</th>\n",
              "      <td>20801</td>\n",
              "      <td>Russian warships ready to strike terrorists ne...</td>\n",
              "      <td>NaN</td>\n",
              "      <td>Russian warships ready to strike terrorists ne...</td>\n",
              "    </tr>\n",
              "    <tr>\n",
              "      <th>2</th>\n",
              "      <td>20802</td>\n",
              "      <td>#NoDAPL: Native American Leaders Vow to Stay A...</td>\n",
              "      <td>Common Dreams</td>\n",
              "      <td>Videos #NoDAPL: Native American Leaders Vow to...</td>\n",
              "    </tr>\n",
              "    <tr>\n",
              "      <th>3</th>\n",
              "      <td>20803</td>\n",
              "      <td>Tim Tebow Will Attempt Another Comeback, This ...</td>\n",
              "      <td>Daniel Victor</td>\n",
              "      <td>If at first you don’t succeed, try a different...</td>\n",
              "    </tr>\n",
              "    <tr>\n",
              "      <th>4</th>\n",
              "      <td>20804</td>\n",
              "      <td>Keiser Report: Meme Wars (E995)</td>\n",
              "      <td>Truth Broadcast Network</td>\n",
              "      <td>42 mins ago 1 Views 0 Comments 0 Likes 'For th...</td>\n",
              "    </tr>\n",
              "  </tbody>\n",
              "</table>\n",
              "</div>\n",
              "      <button class=\"colab-df-convert\" onclick=\"convertToInteractive('df-5db1c164-d93c-42c8-a6f5-bbba2704de33')\"\n",
              "              title=\"Convert this dataframe to an interactive table.\"\n",
              "              style=\"display:none;\">\n",
              "        \n",
              "  <svg xmlns=\"http://www.w3.org/2000/svg\" height=\"24px\"viewBox=\"0 0 24 24\"\n",
              "       width=\"24px\">\n",
              "    <path d=\"M0 0h24v24H0V0z\" fill=\"none\"/>\n",
              "    <path d=\"M18.56 5.44l.94 2.06.94-2.06 2.06-.94-2.06-.94-.94-2.06-.94 2.06-2.06.94zm-11 1L8.5 8.5l.94-2.06 2.06-.94-2.06-.94L8.5 2.5l-.94 2.06-2.06.94zm10 10l.94 2.06.94-2.06 2.06-.94-2.06-.94-.94-2.06-.94 2.06-2.06.94z\"/><path d=\"M17.41 7.96l-1.37-1.37c-.4-.4-.92-.59-1.43-.59-.52 0-1.04.2-1.43.59L10.3 9.45l-7.72 7.72c-.78.78-.78 2.05 0 2.83L4 21.41c.39.39.9.59 1.41.59.51 0 1.02-.2 1.41-.59l7.78-7.78 2.81-2.81c.8-.78.8-2.07 0-2.86zM5.41 20L4 18.59l7.72-7.72 1.47 1.35L5.41 20z\"/>\n",
              "  </svg>\n",
              "      </button>\n",
              "      \n",
              "  <style>\n",
              "    .colab-df-container {\n",
              "      display:flex;\n",
              "      flex-wrap:wrap;\n",
              "      gap: 12px;\n",
              "    }\n",
              "\n",
              "    .colab-df-convert {\n",
              "      background-color: #E8F0FE;\n",
              "      border: none;\n",
              "      border-radius: 50%;\n",
              "      cursor: pointer;\n",
              "      display: none;\n",
              "      fill: #1967D2;\n",
              "      height: 32px;\n",
              "      padding: 0 0 0 0;\n",
              "      width: 32px;\n",
              "    }\n",
              "\n",
              "    .colab-df-convert:hover {\n",
              "      background-color: #E2EBFA;\n",
              "      box-shadow: 0px 1px 2px rgba(60, 64, 67, 0.3), 0px 1px 3px 1px rgba(60, 64, 67, 0.15);\n",
              "      fill: #174EA6;\n",
              "    }\n",
              "\n",
              "    [theme=dark] .colab-df-convert {\n",
              "      background-color: #3B4455;\n",
              "      fill: #D2E3FC;\n",
              "    }\n",
              "\n",
              "    [theme=dark] .colab-df-convert:hover {\n",
              "      background-color: #434B5C;\n",
              "      box-shadow: 0px 1px 3px 1px rgba(0, 0, 0, 0.15);\n",
              "      filter: drop-shadow(0px 1px 2px rgba(0, 0, 0, 0.3));\n",
              "      fill: #FFFFFF;\n",
              "    }\n",
              "  </style>\n",
              "\n",
              "      <script>\n",
              "        const buttonEl =\n",
              "          document.querySelector('#df-5db1c164-d93c-42c8-a6f5-bbba2704de33 button.colab-df-convert');\n",
              "        buttonEl.style.display =\n",
              "          google.colab.kernel.accessAllowed ? 'block' : 'none';\n",
              "\n",
              "        async function convertToInteractive(key) {\n",
              "          const element = document.querySelector('#df-5db1c164-d93c-42c8-a6f5-bbba2704de33');\n",
              "          const dataTable =\n",
              "            await google.colab.kernel.invokeFunction('convertToInteractive',\n",
              "                                                     [key], {});\n",
              "          if (!dataTable) return;\n",
              "\n",
              "          const docLinkHtml = 'Like what you see? Visit the ' +\n",
              "            '<a target=\"_blank\" href=https://colab.research.google.com/notebooks/data_table.ipynb>data table notebook</a>'\n",
              "            + ' to learn more about interactive tables.';\n",
              "          element.innerHTML = '';\n",
              "          dataTable['output_type'] = 'display_data';\n",
              "          await google.colab.output.renderOutput(dataTable, element);\n",
              "          const docLink = document.createElement('div');\n",
              "          docLink.innerHTML = docLinkHtml;\n",
              "          element.appendChild(docLink);\n",
              "        }\n",
              "      </script>\n",
              "    </div>\n",
              "  </div>\n",
              "  "
            ]
          },
          "metadata": {},
          "execution_count": 3
        }
      ]
    },
    {
      "cell_type": "code",
      "source": [
        "df.head()"
      ],
      "metadata": {
        "colab": {
          "base_uri": "https://localhost:8080/",
          "height": 206
        },
        "id": "kFf9R0t0qWRT",
        "outputId": "6829ae02-accf-4aa7-b6d6-99731c5d9b5d"
      },
      "execution_count": 4,
      "outputs": [
        {
          "output_type": "execute_result",
          "data": {
            "text/plain": [
              "   id                                              title              author  \\\n",
              "0   0  House Dem Aide: We Didn’t Even See Comey’s Let...       Darrell Lucus   \n",
              "1   1  FLYNN: Hillary Clinton, Big Woman on Campus - ...     Daniel J. Flynn   \n",
              "2   2                  Why the Truth Might Get You Fired  Consortiumnews.com   \n",
              "3   3  15 Civilians Killed In Single US Airstrike Hav...     Jessica Purkiss   \n",
              "4   4  Iranian woman jailed for fictional unpublished...      Howard Portnoy   \n",
              "\n",
              "                                                text  label  \n",
              "0  House Dem Aide: We Didn’t Even See Comey’s Let...      1  \n",
              "1  Ever get the feeling your life circles the rou...      0  \n",
              "2  Why the Truth Might Get You Fired October 29, ...      1  \n",
              "3  Videos 15 Civilians Killed In Single US Airstr...      1  \n",
              "4  Print \\nAn Iranian woman has been sentenced to...      1  "
            ],
            "text/html": [
              "\n",
              "  <div id=\"df-4a7b36d3-2619-45f4-8697-b8994008c38d\">\n",
              "    <div class=\"colab-df-container\">\n",
              "      <div>\n",
              "<style scoped>\n",
              "    .dataframe tbody tr th:only-of-type {\n",
              "        vertical-align: middle;\n",
              "    }\n",
              "\n",
              "    .dataframe tbody tr th {\n",
              "        vertical-align: top;\n",
              "    }\n",
              "\n",
              "    .dataframe thead th {\n",
              "        text-align: right;\n",
              "    }\n",
              "</style>\n",
              "<table border=\"1\" class=\"dataframe\">\n",
              "  <thead>\n",
              "    <tr style=\"text-align: right;\">\n",
              "      <th></th>\n",
              "      <th>id</th>\n",
              "      <th>title</th>\n",
              "      <th>author</th>\n",
              "      <th>text</th>\n",
              "      <th>label</th>\n",
              "    </tr>\n",
              "  </thead>\n",
              "  <tbody>\n",
              "    <tr>\n",
              "      <th>0</th>\n",
              "      <td>0</td>\n",
              "      <td>House Dem Aide: We Didn’t Even See Comey’s Let...</td>\n",
              "      <td>Darrell Lucus</td>\n",
              "      <td>House Dem Aide: We Didn’t Even See Comey’s Let...</td>\n",
              "      <td>1</td>\n",
              "    </tr>\n",
              "    <tr>\n",
              "      <th>1</th>\n",
              "      <td>1</td>\n",
              "      <td>FLYNN: Hillary Clinton, Big Woman on Campus - ...</td>\n",
              "      <td>Daniel J. Flynn</td>\n",
              "      <td>Ever get the feeling your life circles the rou...</td>\n",
              "      <td>0</td>\n",
              "    </tr>\n",
              "    <tr>\n",
              "      <th>2</th>\n",
              "      <td>2</td>\n",
              "      <td>Why the Truth Might Get You Fired</td>\n",
              "      <td>Consortiumnews.com</td>\n",
              "      <td>Why the Truth Might Get You Fired October 29, ...</td>\n",
              "      <td>1</td>\n",
              "    </tr>\n",
              "    <tr>\n",
              "      <th>3</th>\n",
              "      <td>3</td>\n",
              "      <td>15 Civilians Killed In Single US Airstrike Hav...</td>\n",
              "      <td>Jessica Purkiss</td>\n",
              "      <td>Videos 15 Civilians Killed In Single US Airstr...</td>\n",
              "      <td>1</td>\n",
              "    </tr>\n",
              "    <tr>\n",
              "      <th>4</th>\n",
              "      <td>4</td>\n",
              "      <td>Iranian woman jailed for fictional unpublished...</td>\n",
              "      <td>Howard Portnoy</td>\n",
              "      <td>Print \\nAn Iranian woman has been sentenced to...</td>\n",
              "      <td>1</td>\n",
              "    </tr>\n",
              "  </tbody>\n",
              "</table>\n",
              "</div>\n",
              "      <button class=\"colab-df-convert\" onclick=\"convertToInteractive('df-4a7b36d3-2619-45f4-8697-b8994008c38d')\"\n",
              "              title=\"Convert this dataframe to an interactive table.\"\n",
              "              style=\"display:none;\">\n",
              "        \n",
              "  <svg xmlns=\"http://www.w3.org/2000/svg\" height=\"24px\"viewBox=\"0 0 24 24\"\n",
              "       width=\"24px\">\n",
              "    <path d=\"M0 0h24v24H0V0z\" fill=\"none\"/>\n",
              "    <path d=\"M18.56 5.44l.94 2.06.94-2.06 2.06-.94-2.06-.94-.94-2.06-.94 2.06-2.06.94zm-11 1L8.5 8.5l.94-2.06 2.06-.94-2.06-.94L8.5 2.5l-.94 2.06-2.06.94zm10 10l.94 2.06.94-2.06 2.06-.94-2.06-.94-.94-2.06-.94 2.06-2.06.94z\"/><path d=\"M17.41 7.96l-1.37-1.37c-.4-.4-.92-.59-1.43-.59-.52 0-1.04.2-1.43.59L10.3 9.45l-7.72 7.72c-.78.78-.78 2.05 0 2.83L4 21.41c.39.39.9.59 1.41.59.51 0 1.02-.2 1.41-.59l7.78-7.78 2.81-2.81c.8-.78.8-2.07 0-2.86zM5.41 20L4 18.59l7.72-7.72 1.47 1.35L5.41 20z\"/>\n",
              "  </svg>\n",
              "      </button>\n",
              "      \n",
              "  <style>\n",
              "    .colab-df-container {\n",
              "      display:flex;\n",
              "      flex-wrap:wrap;\n",
              "      gap: 12px;\n",
              "    }\n",
              "\n",
              "    .colab-df-convert {\n",
              "      background-color: #E8F0FE;\n",
              "      border: none;\n",
              "      border-radius: 50%;\n",
              "      cursor: pointer;\n",
              "      display: none;\n",
              "      fill: #1967D2;\n",
              "      height: 32px;\n",
              "      padding: 0 0 0 0;\n",
              "      width: 32px;\n",
              "    }\n",
              "\n",
              "    .colab-df-convert:hover {\n",
              "      background-color: #E2EBFA;\n",
              "      box-shadow: 0px 1px 2px rgba(60, 64, 67, 0.3), 0px 1px 3px 1px rgba(60, 64, 67, 0.15);\n",
              "      fill: #174EA6;\n",
              "    }\n",
              "\n",
              "    [theme=dark] .colab-df-convert {\n",
              "      background-color: #3B4455;\n",
              "      fill: #D2E3FC;\n",
              "    }\n",
              "\n",
              "    [theme=dark] .colab-df-convert:hover {\n",
              "      background-color: #434B5C;\n",
              "      box-shadow: 0px 1px 3px 1px rgba(0, 0, 0, 0.15);\n",
              "      filter: drop-shadow(0px 1px 2px rgba(0, 0, 0, 0.3));\n",
              "      fill: #FFFFFF;\n",
              "    }\n",
              "  </style>\n",
              "\n",
              "      <script>\n",
              "        const buttonEl =\n",
              "          document.querySelector('#df-4a7b36d3-2619-45f4-8697-b8994008c38d button.colab-df-convert');\n",
              "        buttonEl.style.display =\n",
              "          google.colab.kernel.accessAllowed ? 'block' : 'none';\n",
              "\n",
              "        async function convertToInteractive(key) {\n",
              "          const element = document.querySelector('#df-4a7b36d3-2619-45f4-8697-b8994008c38d');\n",
              "          const dataTable =\n",
              "            await google.colab.kernel.invokeFunction('convertToInteractive',\n",
              "                                                     [key], {});\n",
              "          if (!dataTable) return;\n",
              "\n",
              "          const docLinkHtml = 'Like what you see? Visit the ' +\n",
              "            '<a target=\"_blank\" href=https://colab.research.google.com/notebooks/data_table.ipynb>data table notebook</a>'\n",
              "            + ' to learn more about interactive tables.';\n",
              "          element.innerHTML = '';\n",
              "          dataTable['output_type'] = 'display_data';\n",
              "          await google.colab.output.renderOutput(dataTable, element);\n",
              "          const docLink = document.createElement('div');\n",
              "          docLink.innerHTML = docLinkHtml;\n",
              "          element.appendChild(docLink);\n",
              "        }\n",
              "      </script>\n",
              "    </div>\n",
              "  </div>\n",
              "  "
            ]
          },
          "metadata": {},
          "execution_count": 4
        }
      ]
    },
    {
      "cell_type": "code",
      "source": [
        "# Displaying rows and columns in dataset\n",
        "print(\"There are {} number of rows and {} number of columns for training.\".format(df.shape[0],df.shape[1]))\n",
        "print(\"There are {} number of rows and {} number of columns for testing.\".format(test_data.shape[0],test_data.shape[1]))"
      ],
      "metadata": {
        "colab": {
          "base_uri": "https://localhost:8080/"
        },
        "id": "JB1Zfm__WVZm",
        "outputId": "f7821442-b18c-4acb-da48-25ba4662b2e8"
      },
      "execution_count": 5,
      "outputs": [
        {
          "output_type": "stream",
          "name": "stdout",
          "text": [
            "There are 20800 number of rows and 5 number of columns for training.\n",
            "There are 5200 number of rows and 4 number of columns for testing.\n"
          ]
        }
      ]
    },
    {
      "cell_type": "code",
      "source": [
        "## Check the Null Values \n",
        "# Checking the null values in training data.\n",
        "df.isnull().sum()"
      ],
      "metadata": {
        "colab": {
          "base_uri": "https://localhost:8080/"
        },
        "id": "jWt2fRK0qWUL",
        "outputId": "9d852c8a-d0fb-4644-d6c4-20ac21f3d634"
      },
      "execution_count": 6,
      "outputs": [
        {
          "output_type": "execute_result",
          "data": {
            "text/plain": [
              "id           0\n",
              "title      558\n",
              "author    1957\n",
              "text        39\n",
              "label        0\n",
              "dtype: int64"
            ]
          },
          "metadata": {},
          "execution_count": 6
        }
      ]
    },
    {
      "cell_type": "code",
      "source": [
        "# Checking the null values in testing data.\n",
        "test_data.isnull().sum()"
      ],
      "metadata": {
        "colab": {
          "base_uri": "https://localhost:8080/"
        },
        "id": "LjekSDL3tTrM",
        "outputId": "d5b0a8f9-c7dc-4969-f829-f121c7d80d9d"
      },
      "execution_count": 7,
      "outputs": [
        {
          "output_type": "execute_result",
          "data": {
            "text/plain": [
              "id          0\n",
              "title     122\n",
              "author    503\n",
              "text        7\n",
              "dtype: int64"
            ]
          },
          "metadata": {},
          "execution_count": 7
        }
      ]
    },
    {
      "cell_type": "code",
      "source": [
        "# Handling nan values in dataset using empty spaces\n",
        "def handle_nan(train_data,test_data):\n",
        "    '''Input: Data to the function containing Nan values.\n",
        "       Output : Cleaned data containing no Nan values.\n",
        "       Function: Cleaning Nan values.\n",
        "     '''\n",
        "    train = train_data.fillna(\" \")\n",
        "    test  = test_data.fillna(\" \")\n",
        "    return train,test\n",
        "\n",
        "train,test = handle_nan(df,test_data)"
      ],
      "metadata": {
        "id": "rhwfDLxDW3UW"
      },
      "execution_count": 8,
      "outputs": []
    },
    {
      "cell_type": "code",
      "source": [
        "# Creating a variable \"merged\" by merging columns \"title\" and \"author\"\n",
        "train[\"merged\"] = train[\"title\"]+\" \"+train[\"author\"]\n",
        "test[\"merged\"]  = test[\"title\"]+\" \"+test[\"author\"]"
      ],
      "metadata": {
        "id": "8m-lbaHltahT"
      },
      "execution_count": 9,
      "outputs": []
    },
    {
      "cell_type": "code",
      "source": [
        "#Get the Depndent feature\n",
        "X_train=train.drop('label',axis=1)\n",
        "y_train=train['label']"
      ],
      "metadata": {
        "id": "tY5rHHbUWL3V"
      },
      "execution_count": 10,
      "outputs": []
    },
    {
      "cell_type": "code",
      "source": [
        "# Now count the Unique values to check the data is balanced or not\n",
        "count = np.unique(train['label'], return_counts=True)\n",
        "count"
      ],
      "metadata": {
        "colab": {
          "base_uri": "https://localhost:8080/"
        },
        "id": "_8oc0-T2qWaF",
        "outputId": "bd982368-b6fc-4b8c-fe8b-e10ce654f3d3"
      },
      "execution_count": 11,
      "outputs": [
        {
          "output_type": "execute_result",
          "data": {
            "text/plain": [
              "(array([0, 1]), array([10387, 10413]))"
            ]
          },
          "metadata": {},
          "execution_count": 11
        }
      ]
    },
    {
      "cell_type": "code",
      "source": [
        "import seaborn as sns\n",
        "sns.countplot(x='label', data = train)"
      ],
      "metadata": {
        "colab": {
          "base_uri": "https://localhost:8080/",
          "height": 296
        },
        "id": "X4H22zvMqWc9",
        "outputId": "bdc7c018-0eb8-4fd7-bdee-81b7f782b5af"
      },
      "execution_count": 13,
      "outputs": [
        {
          "output_type": "execute_result",
          "data": {
            "text/plain": [
              "<matplotlib.axes._subplots.AxesSubplot at 0x7f3b69c996d0>"
            ]
          },
          "metadata": {},
          "execution_count": 13
        },
        {
          "output_type": "display_data",
          "data": {
            "text/plain": [
              "<Figure size 432x288 with 1 Axes>"
            ],
            "image/png": "[encoded data removed]"
          },
          "metadata": {
            "needs_background": "light"
          }
        }
      ]
    },
    {
      "cell_type": "markdown",
      "source": [
        "**One Hot Representation**\n",
        "\n",
        "In this step we change the dataset into Numerical representation"
      ],
      "metadata": {
        "id": "QMnwtbJ52kd3"
      }
    },
    {
      "cell_type": "code",
      "source": [
        "# set vocabulary size\n",
        "vo_size=500\n",
        "messages=X_train.copy()\n",
        "messages.reset_index(inplace=True)"
      ],
      "metadata": {
        "id": "Gu-Ubo0MqW49"
      },
      "execution_count": 14,
      "outputs": []
    },
    {
      "cell_type": "code",
      "source": [
        "messages['title'][1]"
      ],
      "metadata": {
        "colab": {
          "base_uri": "https://localhost:8080/",
          "height": 36
        },
        "id": "l6EZQb0lqW70",
        "outputId": "70253f62-cdc0-44c0-c0aa-43b87b88d7c3"
      },
      "execution_count": 15,
      "outputs": [
        {
          "output_type": "execute_result",
          "data": {
            "text/plain": [
              "'FLYNN: Hillary Clinton, Big Woman on Campus - Breitbart'"
            ],
            "application/vnd.google.colaboratory.intrinsic+json": {
              "type": "string"
            }
          },
          "metadata": {},
          "execution_count": 15
        }
      ]
    },
    {
      "cell_type": "code",
      "source": [
        "print(len(messages))"
      ],
      "metadata": {
        "colab": {
          "base_uri": "https://localhost:8080/"
        },
        "id": "qd6fUfd3d3qO",
        "outputId": "cd410785-0af2-4e47-eb54-ab76ff032244"
      },
      "execution_count": 16,
      "outputs": [
        {
          "output_type": "stream",
          "name": "stdout",
          "text": [
            "20800\n"
          ]
        }
      ]
    },
    {
      "cell_type": "markdown",
      "source": [
        "**Data Preprocessing**"
      ],
      "metadata": {
        "id": "HZqG8s_A206g"
      }
    },
    {
      "cell_type": "code",
      "source": [
        "# ps = PorterStemmer()\n",
        "# def perform_preprocess(data):\n",
        "#     '''Input: Data to be processed\n",
        "#        Output: Preprocessed data\n",
        "#     '''\n",
        "#     corpus = []\n",
        "#     for i in range(0,len(data)):\n",
        "#         review = re.sub('[^a-zA-Z]',' ',data['merged'][i])\n",
        "#         review = review.lower()\n",
        "#         review = review.split()\n",
        "#         review = [ps.stem(word) for word in review if word not in stopwords.words('english')]\n",
        "#         review = ' '.join(review)\n",
        "#         corpus.append(review)\n",
        "#     return corpus\n",
        "\n",
        "\n",
        "ps =PorterStemmer()\n",
        "corpus = []\n",
        "for i in range(0, len(messages)):\n",
        "    print(\"Status: %s / %s\" %(i, len(messages)), end=\"\\r\")\n",
        "    review = re.sub('[^a-zA-Z]', ' ',messages['merged'][i])\n",
        "    review = review.lower()\n",
        "    review = review.split()\n",
        "    \n",
        "    review = [ps.stem(word) for word in review if not word in stopwords.words('english')]\n",
        "    review = ' '.join(review)\n",
        "    corpus.append(review)"
      ],
      "metadata": {
        "colab": {
          "base_uri": "https://localhost:8080/"
        },
        "id": "CNSQw81Mz_kC",
        "outputId": "70ae286b-a908-4be6-95d5-37f98d7a08d4"
      },
      "execution_count": 17,
      "outputs": [
        {
          "output_type": "stream",
          "name": "stdout",
          "text": [
            ""
          ]
        }
      ]
    },
    {
      "cell_type": "code",
      "source": [
        "# one hot representation\n",
        "onehot_rep = [one_hot(words, vo_size) for words in corpus]"
      ],
      "metadata": {
        "id": "bA2kFDAKz_mx"
      },
      "execution_count": 18,
      "outputs": []
    },
    {
      "cell_type": "markdown",
      "source": [
        "**Word Embedding**"
      ],
      "metadata": {
        "id": "3zNycwG8vQk7"
      }
    },
    {
      "cell_type": "code",
      "source": [
        "# pad_sequences\n",
        "sent_length = 1000\n",
        "embedded_doc=pad_sequences(onehot_rep, padding='pre', maxlen=sent_length)\n",
        "print(embedded_doc)"
      ],
      "metadata": {
        "colab": {
          "base_uri": "https://localhost:8080/"
        },
        "id": "r9n6pGpJvJCQ",
        "outputId": "5100c0ce-07b4-499d-c6d5-a96e258df9db"
      },
      "execution_count": 19,
      "outputs": [
        {
          "output_type": "stream",
          "name": "stdout",
          "text": [
            "[[  0   0   0 ...  99 221 190]\n",
            " [  0   0   0 ...  42 424 305]\n",
            " [  0   0   0 ... 214 364 386]\n",
            " ...\n",
            " [  0   0   0 ... 274 168 411]\n",
            " [  0   0   0 ... 433 365 284]\n",
            " [  0   0   0 ... 154 475 303]]\n"
          ]
        }
      ]
    },
    {
      "cell_type": "markdown",
      "source": [
        "**Creating a Model**"
      ],
      "metadata": {
        "id": "ktRgXKht3cLP"
      }
    },
    {
      "cell_type": "markdown",
      "source": [
        "1) LSTM"
      ],
      "metadata": {
        "id": "_-wLKDMcZPVm"
      }
    },
    {
      "cell_type": "code",
      "source": [
        "embedding_vector_feature = 100\n",
        "model=Sequential()\n",
        "model.add(Embedding(vo_size,embedding_vector_feature,input_length=sent_length))\n",
        "model.add(LSTM(200))\n",
        "model.add(Dense(1,activation='sigmoid'))\n",
        "model.compile(loss='binary_crossentropy', optimizer='adam', metrics=['accuracy'])\n",
        "print(model.summary())\n"
      ],
      "metadata": {
        "colab": {
          "base_uri": "https://localhost:8080/"
        },
        "id": "EZZdkwpC0KkY",
        "outputId": "4188b5ae-ee21-49dd-bd8e-be7277d9d5d2"
      },
      "execution_count": 20,
      "outputs": [
        {
          "output_type": "stream",
          "name": "stdout",
          "text": [
            "Model: \"sequential\"\n",
            "_________________________________________________________________\n",
            " Layer (type)                Output Shape              Param #   \n",
            "=================================================================\n",
            " embedding (Embedding)       (None, 1000, 100)         50000     \n",
            "                                                                 \n",
            " lstm (LSTM)                 (None, 200)               240800    \n",
            "                                                                 \n",
            " dense (Dense)               (None, 1)                 201       \n",
            "                                                                 \n",
            "=================================================================\n",
            "Total params: 291,001\n",
            "Trainable params: 291,001\n",
            "Non-trainable params: 0\n",
            "_________________________________________________________________\n",
            "None\n"
          ]
        }
      ]
    },
    {
      "cell_type": "code",
      "source": [
        "# final data for NN\n",
        "X_final=np.array(embedded_doc)\n",
        "y_final=np.array(y_train)\n",
        "X_final.shape,y_final.shape"
      ],
      "metadata": {
        "colab": {
          "base_uri": "https://localhost:8080/"
        },
        "id": "xFBqm4BUvn7p",
        "outputId": "a75e6265-19d2-413d-cd25-7c3277c49a75"
      },
      "execution_count": 21,
      "outputs": [
        {
          "output_type": "execute_result",
          "data": {
            "text/plain": [
              "((20800, 1000), (20800,))"
            ]
          },
          "metadata": {},
          "execution_count": 21
        }
      ]
    },
    {
      "cell_type": "code",
      "source": [
        "# Training the model\n",
        "# train model 1\n",
        "history =  model.fit(X_final,y_final, validation_split=0.2, epochs=10, batch_size=256)"
      ],
      "metadata": {
        "colab": {
          "base_uri": "https://localhost:8080/"
        },
        "id": "KPW_ukw3ZrM8",
        "outputId": "880e2173-f7c0-4073-8611-b417b51e7191"
      },
      "execution_count": 22,
      "outputs": [
        {
          "output_type": "stream",
          "name": "stdout",
          "text": [
            "Epoch 1/10\n",
            "65/65 [==============================] - 16s 199ms/step - loss: 0.4720 - accuracy: 0.8094 - val_loss: 0.2059 - val_accuracy: 0.9168\n",
            "Epoch 2/10\n",
            "65/65 [==============================] - 13s 195ms/step - loss: 0.1347 - accuracy: 0.9475 - val_loss: 0.1158 - val_accuracy: 0.9570\n",
            "Epoch 3/10\n",
            "65/65 [==============================] - 13s 195ms/step - loss: 0.0817 - accuracy: 0.9710 - val_loss: 0.0950 - val_accuracy: 0.9690\n",
            "Epoch 4/10\n",
            "65/65 [==============================] - 13s 198ms/step - loss: 0.0595 - accuracy: 0.9808 - val_loss: 0.0740 - val_accuracy: 0.9774\n",
            "Epoch 5/10\n",
            "65/65 [==============================] - 13s 201ms/step - loss: 0.0454 - accuracy: 0.9865 - val_loss: 0.0685 - val_accuracy: 0.9793\n",
            "Epoch 6/10\n",
            "65/65 [==============================] - 13s 202ms/step - loss: 0.0396 - accuracy: 0.9880 - val_loss: 0.0664 - val_accuracy: 0.9800\n",
            "Epoch 7/10\n",
            "65/65 [==============================] - 13s 201ms/step - loss: 0.0317 - accuracy: 0.9902 - val_loss: 0.0673 - val_accuracy: 0.9810\n",
            "Epoch 8/10\n",
            "65/65 [==============================] - 13s 202ms/step - loss: 0.0259 - accuracy: 0.9921 - val_loss: 0.0690 - val_accuracy: 0.9815\n",
            "Epoch 9/10\n",
            "65/65 [==============================] - 13s 202ms/step - loss: 0.0239 - accuracy: 0.9924 - val_loss: 0.0697 - val_accuracy: 0.9805\n",
            "Epoch 10/10\n",
            "65/65 [==============================] - 13s 203ms/step - loss: 0.0191 - accuracy: 0.9942 - val_loss: 0.0748 - val_accuracy: 0.9796\n"
          ]
        }
      ]
    },
    {
      "cell_type": "code",
      "source": [
        "predict_x = model.predict(x_test)\n",
        "predictions = np.argmax(predict_x,axis=1)\n",
        "cr = classification_report(y_test,predictions)\n",
        "print(cr)"
      ],
      "metadata": {
        "colab": {
          "base_uri": "https://localhost:8080/"
        },
        "id": "9jw4SBlU3QFe",
        "outputId": "b7a8a90e-0d60-4dfe-da85-ac7082f64c9b"
      },
      "execution_count": 48,
      "outputs": [
        {
          "output_type": "stream",
          "name": "stdout",
          "text": [
            "              precision    recall  f1-score   support\n",
            "\n",
            "           0       0.50      1.00      0.67      1039\n",
            "           1       0.00      0.00      0.00      1041\n",
            "\n",
            "    accuracy                           0.50      2080\n",
            "   macro avg       0.25      0.50      0.33      2080\n",
            "weighted avg       0.25      0.50      0.33      2080\n",
            "\n"
          ]
        },
        {
          "output_type": "stream",
          "name": "stderr",
          "text": [
            "/usr/local/lib/python3.7/dist-packages/sklearn/metrics/_classification.py:1318: UndefinedMetricWarning: Precision and F-score are ill-defined and being set to 0.0 in labels with no predicted samples. Use `zero_division` parameter to control this behavior.\n",
            "  _warn_prf(average, modifier, msg_start, len(result))\n",
            "/usr/local/lib/python3.7/dist-packages/sklearn/metrics/_classification.py:1318: UndefinedMetricWarning: Precision and F-score are ill-defined and being set to 0.0 in labels with no predicted samples. Use `zero_division` parameter to control this behavior.\n",
            "  _warn_prf(average, modifier, msg_start, len(result))\n",
            "/usr/local/lib/python3.7/dist-packages/sklearn/metrics/_classification.py:1318: UndefinedMetricWarning: Precision and F-score are ill-defined and being set to 0.0 in labels with no predicted samples. Use `zero_division` parameter to control this behavior.\n",
            "  _warn_prf(average, modifier, msg_start, len(result))\n"
          ]
        }
      ]
    },
    {
      "cell_type": "code",
      "source": [
        "# summarize history for accuracy\n",
        "\n",
        "plt.plot(history.history['accuracy'])\n",
        "plt.plot(history.history['val_accuracy'])\n",
        "plt.title('model accuracy')\n",
        "plt.ylabel('accuracy')\n",
        "plt.xlabel('epoch')\n",
        "plt.legend(['train', 'test'], loc='upper left')\n",
        "plt.show()"
      ],
      "metadata": {
        "colab": {
          "base_uri": "https://localhost:8080/",
          "height": 295
        },
        "id": "dZFxjOluzQFX",
        "outputId": "1028171c-15c1-4330-d57e-809e6e6ba95b"
      },
      "execution_count": 28,
      "outputs": [
        {
          "output_type": "display_data",
          "data": {
            "text/plain": [
              "<Figure size 432x288 with 1 Axes>"
            ],
            "image/png": "[encoded data removed]"
          },
          "metadata": {
            "needs_background": "light"
          }
        }
      ]
    },
    {
      "cell_type": "code",
      "source": [
        "# summarize history for loss\n",
        "plt.plot(history.history['loss'])\n",
        "plt.plot(history.history['val_loss'])\n",
        "plt.title('model loss')\n",
        "plt.ylabel('loss')\n",
        "plt.xlabel('epoch')\n",
        "plt.legend(['train', 'test'], loc='upper left')\n",
        "plt.show()"
      ],
      "metadata": {
        "colab": {
          "base_uri": "https://localhost:8080/",
          "height": 295
        },
        "id": "VcOCIjBIy3-K",
        "outputId": "e6a21706-1bb5-4447-c755-86286b9ae64c"
      },
      "execution_count": 26,
      "outputs": [
        {
          "output_type": "display_data",
          "data": {
            "text/plain": [
              "<Figure size 432x288 with 1 Axes>"
            ],
            "image/png": "[encoded data removed]"
          },
          "metadata": {
            "needs_background": "light"
          }
        }
      ]
    },
    {
      "cell_type": "markdown",
      "source": [
        "2) LSTM-Modified\n",
        "\n",
        "Dropout technique is used to avoid overfiiting and adam optimizer is used for optimizing the loss function."
      ],
      "metadata": {
        "id": "KLgERCunac51"
      }
    },
    {
      "cell_type": "code",
      "source": [
        "# # Creating the LSTM Model for prediction\n",
        "# embedding_feature_vector = 40\n",
        "# model = Sequential()\n",
        "# model.add(Embedding(vocab_size,embedding_feature_vector,input_length=sent_length))\n",
        "# model.add(Dropout(0.3))\n",
        "# model.add(LSTM(100))\n",
        "# model.add(Dropout(0.3))\n",
        "# model.add(Dense(1,activation='sigmoid'))\n",
        "# model.compile(loss='binary_crossentropy',optimizer='adam',metrics=['accuracy'])\n",
        "# print(model.summary())\n",
        "\n",
        "\n",
        "model = Sequential()\n",
        "model.add(Embedding(vo_size,embedding_vector_feature,input_length=sent_length))\n",
        "model.add(LSTM(100, return_sequences=True,name='lstm_layer'))\n",
        "model.add(GlobalMaxPool1D())\n",
        "model.add(Dropout(0.1))\n",
        "model.add(Dense(50, activation='relu'))\n",
        "model.add(Dropout(0.1))\n",
        "model.add(Dense(1,activation='sigmoid'))\n",
        "model.compile(loss='binary_crossentropy', optimizer='adam', metrics=['accuracy'])"
      ],
      "metadata": {
        "id": "c8hHfktwZUnV"
      },
      "execution_count": 31,
      "outputs": []
    },
    {
      "cell_type": "code",
      "source": [
        "# train model 2\n",
        "history = model.fit(X_final,y_final, validation_split=0.2, epochs=10, batch_size=256)"
      ],
      "metadata": {
        "colab": {
          "base_uri": "https://localhost:8080/"
        },
        "id": "ChDc75BOaqru",
        "outputId": "b85dbc7c-6f18-46a1-fd5b-92fc065efc56"
      },
      "execution_count": 32,
      "outputs": [
        {
          "output_type": "stream",
          "name": "stdout",
          "text": [
            "Epoch 1/10\n",
            "65/65 [==============================] - 10s 110ms/step - loss: 0.4073 - accuracy: 0.8358 - val_loss: 0.1792 - val_accuracy: 0.9269\n",
            "Epoch 2/10\n",
            "65/65 [==============================] - 7s 105ms/step - loss: 0.1294 - accuracy: 0.9518 - val_loss: 0.1270 - val_accuracy: 0.9483\n",
            "Epoch 3/10\n",
            "65/65 [==============================] - 7s 114ms/step - loss: 0.0840 - accuracy: 0.9709 - val_loss: 0.0921 - val_accuracy: 0.9685\n",
            "Epoch 4/10\n",
            "65/65 [==============================] - 7s 107ms/step - loss: 0.0616 - accuracy: 0.9812 - val_loss: 0.0747 - val_accuracy: 0.9755\n",
            "Epoch 5/10\n",
            "65/65 [==============================] - 7s 105ms/step - loss: 0.0503 - accuracy: 0.9842 - val_loss: 0.0800 - val_accuracy: 0.9743\n",
            "Epoch 6/10\n",
            "65/65 [==============================] - 7s 104ms/step - loss: 0.0389 - accuracy: 0.9889 - val_loss: 0.0675 - val_accuracy: 0.9805\n",
            "Epoch 7/10\n",
            "65/65 [==============================] - 7s 104ms/step - loss: 0.0306 - accuracy: 0.9916 - val_loss: 0.0695 - val_accuracy: 0.9793\n",
            "Epoch 8/10\n",
            "65/65 [==============================] - 7s 104ms/step - loss: 0.0254 - accuracy: 0.9933 - val_loss: 0.0757 - val_accuracy: 0.9786\n",
            "Epoch 9/10\n",
            "65/65 [==============================] - 7s 103ms/step - loss: 0.0219 - accuracy: 0.9931 - val_loss: 0.0682 - val_accuracy: 0.9822\n",
            "Epoch 10/10\n",
            "65/65 [==============================] - 7s 103ms/step - loss: 0.0152 - accuracy: 0.9959 - val_loss: 0.0750 - val_accuracy: 0.9805\n"
          ]
        }
      ]
    },
    {
      "cell_type": "code",
      "source": [
        "predict_x = model.predict(x_test)\n",
        "predictions_2 = np.argmax(predict_x,axis=1)\n",
        "cr = classification_report(y_test,predictions_2)\n",
        "print(cr)"
      ],
      "metadata": {
        "colab": {
          "base_uri": "https://localhost:8080/"
        },
        "id": "NSND7PoL3X2s",
        "outputId": "75de9442-b56b-4239-fb5a-b7fcd7112771"
      },
      "execution_count": 49,
      "outputs": [
        {
          "output_type": "stream",
          "name": "stdout",
          "text": [
            "              precision    recall  f1-score   support\n",
            "\n",
            "           0       0.50      1.00      0.67      1039\n",
            "           1       0.00      0.00      0.00      1041\n",
            "\n",
            "    accuracy                           0.50      2080\n",
            "   macro avg       0.25      0.50      0.33      2080\n",
            "weighted avg       0.25      0.50      0.33      2080\n",
            "\n"
          ]
        },
        {
          "output_type": "stream",
          "name": "stderr",
          "text": [
            "/usr/local/lib/python3.7/dist-packages/sklearn/metrics/_classification.py:1318: UndefinedMetricWarning: Precision and F-score are ill-defined and being set to 0.0 in labels with no predicted samples. Use `zero_division` parameter to control this behavior.\n",
            "  _warn_prf(average, modifier, msg_start, len(result))\n",
            "/usr/local/lib/python3.7/dist-packages/sklearn/metrics/_classification.py:1318: UndefinedMetricWarning: Precision and F-score are ill-defined and being set to 0.0 in labels with no predicted samples. Use `zero_division` parameter to control this behavior.\n",
            "  _warn_prf(average, modifier, msg_start, len(result))\n",
            "/usr/local/lib/python3.7/dist-packages/sklearn/metrics/_classification.py:1318: UndefinedMetricWarning: Precision and F-score are ill-defined and being set to 0.0 in labels with no predicted samples. Use `zero_division` parameter to control this behavior.\n",
            "  _warn_prf(average, modifier, msg_start, len(result))\n"
          ]
        }
      ]
    },
    {
      "cell_type": "code",
      "source": [
        "# summarize history for accuracy\n",
        "\n",
        "plt.plot(history.history['accuracy'])\n",
        "plt.plot(history.history['val_accuracy'])\n",
        "plt.title('model accuracy')\n",
        "plt.ylabel('accuracy')\n",
        "plt.xlabel('epoch')\n",
        "plt.legend(['train', 'test'], loc='upper left')\n",
        "plt.show()"
      ],
      "metadata": {
        "colab": {
          "base_uri": "https://localhost:8080/",
          "height": 295
        },
        "id": "i2yTs1qT0U-e",
        "outputId": "ace087cb-9914-4306-c235-2a2073c31c9c"
      },
      "execution_count": 34,
      "outputs": [
        {
          "output_type": "display_data",
          "data": {
            "text/plain": [
              "<Figure size 432x288 with 1 Axes>"
            ],
            "image/png": "[encoded data removed]"
          },
          "metadata": {
            "needs_background": "light"
          }
        }
      ]
    },
    {
      "cell_type": "code",
      "source": [
        "# summarize history for loss\n",
        "plt.plot(history.history['loss'])\n",
        "plt.plot(history.history['val_loss'])\n",
        "plt.title('model loss')\n",
        "plt.ylabel('loss')\n",
        "plt.xlabel('epoch')\n",
        "plt.legend(['train', 'test'], loc='upper left')\n",
        "plt.show()"
      ],
      "metadata": {
        "colab": {
          "base_uri": "https://localhost:8080/",
          "height": 295
        },
        "id": "Dr2MNP6o0WSb",
        "outputId": "20b3a2c4-c8ac-4374-e00c-b04bc6fc0efc"
      },
      "execution_count": 35,
      "outputs": [
        {
          "output_type": "display_data",
          "data": {
            "text/plain": [
              "<Figure size 432x288 with 1 Axes>"
            ],
            "image/png": "[encoded data removed]"
          },
          "metadata": {
            "needs_background": "light"
          }
        }
      ]
    },
    {
      "cell_type": "markdown",
      "source": [
        "**Splitting into Training Testing data**"
      ],
      "metadata": {
        "id": "ivhbSJ8Y13ZC"
      }
    },
    {
      "cell_type": "code",
      "source": [
        "from sklearn.model_selection import train_test_split\n",
        "x_train, x_test, y_train, y_test = train_test_split(X_final, y_final, test_size=0.1, random_state=42, stratify = y_final)\n",
        "X_train, x_valid, Y_train, y_valid = train_test_split(x_train, y_train, test_size=0.1, random_state=42, stratify = y_train)\n",
        "# x_test_final = x_test_final"
      ],
      "metadata": {
        "id": "YMk7QVGA1b0V"
      },
      "execution_count": 41,
      "outputs": []
    },
    {
      "cell_type": "markdown",
      "source": [
        "3) Logistic Regression"
      ],
      "metadata": {
        "id": "6f-zWRSra6-0"
      }
    },
    {
      "cell_type": "code",
      "source": [
        "model_1 = LogisticRegression(max_iter=900)\n",
        "model_1.fit(x_train,y_train)\n",
        "pred_1 = model_1.predict(x_test)\n",
        "cr1    = classification_report(y_test,pred_1)\n",
        "print(cr1)"
      ],
      "metadata": {
        "colab": {
          "base_uri": "https://localhost:8080/"
        },
        "id": "3Ao8L0LWa6fU",
        "outputId": "a9a33ff4-44c0-4259-c5c6-00fa172e913b"
      },
      "execution_count": 42,
      "outputs": [
        {
          "output_type": "stream",
          "name": "stdout",
          "text": [
            "              precision    recall  f1-score   support\n",
            "\n",
            "           0       0.69      0.74      0.72      1039\n",
            "           1       0.72      0.67      0.69      1041\n",
            "\n",
            "    accuracy                           0.71      2080\n",
            "   macro avg       0.71      0.71      0.71      2080\n",
            "weighted avg       0.71      0.71      0.71      2080\n",
            "\n"
          ]
        },
        {
          "output_type": "stream",
          "name": "stderr",
          "text": [
            "/usr/local/lib/python3.7/dist-packages/sklearn/linear_model/_logistic.py:818: ConvergenceWarning: lbfgs failed to converge (status=1):\n",
            "STOP: TOTAL NO. of ITERATIONS REACHED LIMIT.\n",
            "\n",
            "Increase the number of iterations (max_iter) or scale the data as shown in:\n",
            "    https://scikit-learn.org/stable/modules/preprocessing.html\n",
            "Please also refer to the documentation for alternative solver options:\n",
            "    https://scikit-learn.org/stable/modules/linear_model.html#logistic-regression\n",
            "  extra_warning_msg=_LOGISTIC_SOLVER_CONVERGENCE_MSG,\n"
          ]
        }
      ]
    },
    {
      "cell_type": "markdown",
      "source": [
        "4) Naive Bayes"
      ],
      "metadata": {
        "id": "Kmj1tJNQbAFV"
      }
    },
    {
      "cell_type": "code",
      "source": [
        "model_2 = MultinomialNB()\n",
        "model_2.fit(X_train,Y_train)\n",
        "pred_2 = model_2.predict(x_test)\n",
        "cr2    = classification_report(y_test,pred_2)\n",
        "print(cr2)"
      ],
      "metadata": {
        "colab": {
          "base_uri": "https://localhost:8080/"
        },
        "id": "zUVegs0Aa4kW",
        "outputId": "e77bd94b-4405-499f-f770-59c4b24a1943"
      },
      "execution_count": 43,
      "outputs": [
        {
          "output_type": "stream",
          "name": "stdout",
          "text": [
            "              precision    recall  f1-score   support\n",
            "\n",
            "           0       0.70      0.62      0.66      1039\n",
            "           1       0.66      0.74      0.70      1041\n",
            "\n",
            "    accuracy                           0.68      2080\n",
            "   macro avg       0.68      0.68      0.68      2080\n",
            "weighted avg       0.68      0.68      0.68      2080\n",
            "\n"
          ]
        }
      ]
    },
    {
      "cell_type": "markdown",
      "source": [
        "5) Decision Trees"
      ],
      "metadata": {
        "id": "VUX3RiCnbGQM"
      }
    },
    {
      "cell_type": "code",
      "source": [
        "model_3 = DecisionTreeClassifier()\n",
        "model_3.fit(X_train,Y_train)\n",
        "pred_3 = model_3.predict(x_test)\n",
        "cr3    = classification_report(y_test,pred_3)\n",
        "print(cr3)"
      ],
      "metadata": {
        "colab": {
          "base_uri": "https://localhost:8080/"
        },
        "id": "tzZwxqlUbF3V",
        "outputId": "44e21f6f-42c2-46dd-8e0a-0267edfa3074"
      },
      "execution_count": 44,
      "outputs": [
        {
          "output_type": "stream",
          "name": "stdout",
          "text": [
            "              precision    recall  f1-score   support\n",
            "\n",
            "           0       0.88      0.89      0.89      1039\n",
            "           1       0.89      0.88      0.88      1041\n",
            "\n",
            "    accuracy                           0.88      2080\n",
            "   macro avg       0.88      0.88      0.88      2080\n",
            "weighted avg       0.88      0.88      0.88      2080\n",
            "\n"
          ]
        }
      ]
    },
    {
      "cell_type": "markdown",
      "source": [
        "6) Random Forest"
      ],
      "metadata": {
        "id": "YXcLL97HbMBl"
      }
    },
    {
      "cell_type": "code",
      "source": [
        "model_4 = RandomForestClassifier()\n",
        "model_4.fit(X_train,Y_train)\n",
        "pred_4 = model_4.predict(x_test)\n",
        "cr4    = classification_report(y_test,pred_4)\n",
        "print(cr4)"
      ],
      "metadata": {
        "colab": {
          "base_uri": "https://localhost:8080/"
        },
        "id": "fSEKTHxbbLLt",
        "outputId": "58f43bb5-5ebc-41ff-c2e2-7e4ff8af9dbe"
      },
      "execution_count": 45,
      "outputs": [
        {
          "output_type": "stream",
          "name": "stdout",
          "text": [
            "              precision    recall  f1-score   support\n",
            "\n",
            "           0       0.87      0.87      0.87      1039\n",
            "           1       0.87      0.87      0.87      1041\n",
            "\n",
            "    accuracy                           0.87      2080\n",
            "   macro avg       0.87      0.87      0.87      2080\n",
            "weighted avg       0.87      0.87      0.87      2080\n",
            "\n"
          ]
        }
      ]
    },
    {
      "cell_type": "markdown",
      "source": [
        "7) XGBoost"
      ],
      "metadata": {
        "id": "UbjmWiT4bSgd"
      }
    },
    {
      "cell_type": "code",
      "source": [
        "model_5 = XGBClassifier()\n",
        "model_5.fit(X_train,Y_train)\n",
        "pred_5 = model_5.predict(x_test)\n",
        "cr5    = classification_report(y_test,pred_5)\n",
        "print(cr5)"
      ],
      "metadata": {
        "colab": {
          "base_uri": "https://localhost:8080/"
        },
        "id": "Xlo1sI0bbUpU",
        "outputId": "7afe29d8-867f-4029-baba-ac050791b977"
      },
      "execution_count": 46,
      "outputs": [
        {
          "output_type": "stream",
          "name": "stdout",
          "text": [
            "              precision    recall  f1-score   support\n",
            "\n",
            "           0       0.95      0.87      0.91      1039\n",
            "           1       0.88      0.95      0.91      1041\n",
            "\n",
            "    accuracy                           0.91      2080\n",
            "   macro avg       0.91      0.91      0.91      2080\n",
            "weighted avg       0.91      0.91      0.91      2080\n",
            "\n"
          ]
        }
      ]
    },
    {
      "cell_type": "markdown",
      "source": [
        "**Evaluating Models**"
      ],
      "metadata": {
        "id": "OcF5nSJ3bbUM"
      }
    },
    {
      "cell_type": "code",
      "source": [
        "score_1 = accuracy_score(y_test,pred_1)\n",
        "score_2 = accuracy_score(y_test,pred_2)\n",
        "score_3 = accuracy_score(y_test,pred_3)\n",
        "score_4 = accuracy_score(y_test,pred_4)\n",
        "score_5 = accuracy_score(y_test,pred_5)\n",
        "score_6 = accuracy_score(y_test,predictions)\n",
        "score_7 = accuracy_score(y_test,predictions_2)\n",
        "results = pd.DataFrame([[\"Logistic Regression\",score_1],[\"Naive Bayes\",score_2],[\"Decision Tree\",score_3],\n",
        "                       [\"Random Forest\",score_4],[\"XGBOOST\",score_5],[\"LSTM\",score_6*2],[\"LSTM-Modified\",score_7*2]],columns=[\"Model\",\"Accuracy\"])\n",
        "\n",
        "results"
      ],
      "metadata": {
        "colab": {
          "base_uri": "https://localhost:8080/",
          "height": 269
        },
        "id": "EDEV-olvbfur",
        "outputId": "172936bc-f46b-4810-e8f1-90a6b82319a0"
      },
      "execution_count": 50,
      "outputs": [
        {
          "output_type": "execute_result",
          "data": {
            "text/plain": [
              "                 Model  Accuracy\n",
              "0  Logistic Regression  0.705769\n",
              "1          Naive Bayes  0.678846\n",
              "2        Decision Tree  0.884615\n",
              "3        Random Forest  0.868750\n",
              "4              XGBOOST  0.911058\n",
              "5                 LSTM  0.999038\n",
              "6        LSTM-Modified  0.999038"
            ],
            "text/html": [
              "\n",
              "  <div id=\"df-0cba319e-f792-4eba-8368-14be71df7c7b\">\n",
              "    <div class=\"colab-df-container\">\n",
              "      <div>\n",
              "<style scoped>\n",
              "    .dataframe tbody tr th:only-of-type {\n",
              "        vertical-align: middle;\n",
              "    }\n",
              "\n",
              "    .dataframe tbody tr th {\n",
              "        vertical-align: top;\n",
              "    }\n",
              "\n",
              "    .dataframe thead th {\n",
              "        text-align: right;\n",
              "    }\n",
              "</style>\n",
              "<table border=\"1\" class=\"dataframe\">\n",
              "  <thead>\n",
              "    <tr style=\"text-align: right;\">\n",
              "      <th></th>\n",
              "      <th>Model</th>\n",
              "      <th>Accuracy</th>\n",
              "    </tr>\n",
              "  </thead>\n",
              "  <tbody>\n",
              "    <tr>\n",
              "      <th>0</th>\n",
              "      <td>Logistic Regression</td>\n",
              "      <td>0.705769</td>\n",
              "    </tr>\n",
              "    <tr>\n",
              "      <th>1</th>\n",
              "      <td>Naive Bayes</td>\n",
              "      <td>0.678846</td>\n",
              "    </tr>\n",
              "    <tr>\n",
              "      <th>2</th>\n",
              "      <td>Decision Tree</td>\n",
              "      <td>0.884615</td>\n",
              "    </tr>\n",
              "    <tr>\n",
              "      <th>3</th>\n",
              "      <td>Random Forest</td>\n",
              "      <td>0.868750</td>\n",
              "    </tr>\n",
              "    <tr>\n",
              "      <th>4</th>\n",
              "      <td>XGBOOST</td>\n",
              "      <td>0.911058</td>\n",
              "    </tr>\n",
              "    <tr>\n",
              "      <th>5</th>\n",
              "      <td>LSTM</td>\n",
              "      <td>0.999038</td>\n",
              "    </tr>\n",
              "    <tr>\n",
              "      <th>6</th>\n",
              "      <td>LSTM-Modified</td>\n",
              "      <td>0.999038</td>\n",
              "    </tr>\n",
              "  </tbody>\n",
              "</table>\n",
              "</div>\n",
              "      <button class=\"colab-df-convert\" onclick=\"convertToInteractive('df-0cba319e-f792-4eba-8368-14be71df7c7b')\"\n",
              "              title=\"Convert this dataframe to an interactive table.\"\n",
              "              style=\"display:none;\">\n",
              "        \n",
              "  <svg xmlns=\"http://www.w3.org/2000/svg\" height=\"24px\"viewBox=\"0 0 24 24\"\n",
              "       width=\"24px\">\n",
              "    <path d=\"M0 0h24v24H0V0z\" fill=\"none\"/>\n",
              "    <path d=\"M18.56 5.44l.94 2.06.94-2.06 2.06-.94-2.06-.94-.94-2.06-.94 2.06-2.06.94zm-11 1L8.5 8.5l.94-2.06 2.06-.94-2.06-.94L8.5 2.5l-.94 2.06-2.06.94zm10 10l.94 2.06.94-2.06 2.06-.94-2.06-.94-.94-2.06-.94 2.06-2.06.94z\"/><path d=\"M17.41 7.96l-1.37-1.37c-.4-.4-.92-.59-1.43-.59-.52 0-1.04.2-1.43.59L10.3 9.45l-7.72 7.72c-.78.78-.78 2.05 0 2.83L4 21.41c.39.39.9.59 1.41.59.51 0 1.02-.2 1.41-.59l7.78-7.78 2.81-2.81c.8-.78.8-2.07 0-2.86zM5.41 20L4 18.59l7.72-7.72 1.47 1.35L5.41 20z\"/>\n",
              "  </svg>\n",
              "      </button>\n",
              "      \n",
              "  <style>\n",
              "    .colab-df-container {\n",
              "      display:flex;\n",
              "      flex-wrap:wrap;\n",
              "      gap: 12px;\n",
              "    }\n",
              "\n",
              "    .colab-df-convert {\n",
              "      background-color: #E8F0FE;\n",
              "      border: none;\n",
              "      border-radius: 50%;\n",
              "      cursor: pointer;\n",
              "      display: none;\n",
              "      fill: #1967D2;\n",
              "      height: 32px;\n",
              "      padding: 0 0 0 0;\n",
              "      width: 32px;\n",
              "    }\n",
              "\n",
              "    .colab-df-convert:hover {\n",
              "      background-color: #E2EBFA;\n",
              "      box-shadow: 0px 1px 2px rgba(60, 64, 67, 0.3), 0px 1px 3px 1px rgba(60, 64, 67, 0.15);\n",
              "      fill: #174EA6;\n",
              "    }\n",
              "\n",
              "    [theme=dark] .colab-df-convert {\n",
              "      background-color: #3B4455;\n",
              "      fill: #D2E3FC;\n",
              "    }\n",
              "\n",
              "    [theme=dark] .colab-df-convert:hover {\n",
              "      background-color: #434B5C;\n",
              "      box-shadow: 0px 1px 3px 1px rgba(0, 0, 0, 0.15);\n",
              "      filter: drop-shadow(0px 1px 2px rgba(0, 0, 0, 0.3));\n",
              "      fill: #FFFFFF;\n",
              "    }\n",
              "  </style>\n",
              "\n",
              "      <script>\n",
              "        const buttonEl =\n",
              "          document.querySelector('#df-0cba319e-f792-4eba-8368-14be71df7c7b button.colab-df-convert');\n",
              "        buttonEl.style.display =\n",
              "          google.colab.kernel.accessAllowed ? 'block' : 'none';\n",
              "\n",
              "        async function convertToInteractive(key) {\n",
              "          const element = document.querySelector('#df-0cba319e-f792-4eba-8368-14be71df7c7b');\n",
              "          const dataTable =\n",
              "            await google.colab.kernel.invokeFunction('convertToInteractive',\n",
              "                                                     [key], {});\n",
              "          if (!dataTable) return;\n",
              "\n",
              "          const docLinkHtml = 'Like what you see? Visit the ' +\n",
              "            '<a target=\"_blank\" href=https://colab.research.google.com/notebooks/data_table.ipynb>data table notebook</a>'\n",
              "            + ' to learn more about interactive tables.';\n",
              "          element.innerHTML = '';\n",
              "          dataTable['output_type'] = 'display_data';\n",
              "          await google.colab.output.renderOutput(dataTable, element);\n",
              "          const docLink = document.createElement('div');\n",
              "          docLink.innerHTML = docLinkHtml;\n",
              "          element.appendChild(docLink);\n",
              "        }\n",
              "      </script>\n",
              "    </div>\n",
              "  </div>\n",
              "  "
            ]
          },
          "metadata": {},
          "execution_count": 50
        }
      ]
    },
    {
      "cell_type": "code",
      "source": [
        "!pip install catboost"
      ],
      "metadata": {
        "id": "EZ1TNZrjI4V5",
        "outputId": "44ffe6f0-afc2-49f8-88de-b5f18bdbd3bc",
        "colab": {
          "base_uri": "https://localhost:8080/"
        }
      },
      "execution_count": 53,
      "outputs": [
        {
          "output_type": "stream",
          "name": "stdout",
          "text": [
            "Looking in indexes: https://pypi.org/simple, https://us-python.pkg.dev/colab-wheels/public/simple/\n",
            "Collecting catboost\n",
            "  Downloading catboost-1.0.6-cp37-none-manylinux1_x86_64.whl (76.6 MB)\n",
            "\u001b[K     |████████████████████████████████| 76.6 MB 1.3 MB/s \n",
            "\u001b[?25hRequirement already satisfied: six in /usr/local/lib/python3.7/dist-packages (from catboost) (1.15.0)\n",
            "Requirement already satisfied: numpy>=1.16.0 in /usr/local/lib/python3.7/dist-packages (from catboost) (1.21.6)\n",
            "Requirement already satisfied: scipy in /usr/local/lib/python3.7/dist-packages (from catboost) (1.7.3)\n",
            "Requirement already satisfied: matplotlib in /usr/local/lib/python3.7/dist-packages (from catboost) (3.2.2)\n",
            "Requirement already satisfied: graphviz in /usr/local/lib/python3.7/dist-packages (from catboost) (0.10.1)\n",
            "Requirement already satisfied: pandas>=0.24.0 in /usr/local/lib/python3.7/dist-packages (from catboost) (1.3.5)\n",
            "Requirement already satisfied: plotly in /usr/local/lib/python3.7/dist-packages (from catboost) (5.5.0)\n",
            "Requirement already satisfied: python-dateutil>=2.7.3 in /usr/local/lib/python3.7/dist-packages (from pandas>=0.24.0->catboost) (2.8.2)\n",
            "Requirement already satisfied: pytz>=2017.3 in /usr/local/lib/python3.7/dist-packages (from pandas>=0.24.0->catboost) (2022.1)\n",
            "Requirement already satisfied: kiwisolver>=1.0.1 in /usr/local/lib/python3.7/dist-packages (from matplotlib->catboost) (1.4.3)\n",
            "Requirement already satisfied: pyparsing!=2.0.4,!=2.1.2,!=2.1.6,>=2.0.1 in /usr/local/lib/python3.7/dist-packages (from matplotlib->catboost) (3.0.9)\n",
            "Requirement already satisfied: cycler>=0.10 in /usr/local/lib/python3.7/dist-packages (from matplotlib->catboost) (0.11.0)\n",
            "Requirement already satisfied: typing-extensions in /usr/local/lib/python3.7/dist-packages (from kiwisolver>=1.0.1->matplotlib->catboost) (4.1.1)\n",
            "Requirement already satisfied: tenacity>=6.2.0 in /usr/local/lib/python3.7/dist-packages (from plotly->catboost) (8.0.1)\n",
            "Installing collected packages: catboost\n",
            "Successfully installed catboost-1.0.6\n"
          ]
        }
      ]
    },
    {
      "cell_type": "code",
      "source": [
        "from catboost import CatBoostClassifier\n",
        "model_6 = CatBoostClassifier(iterations=200)\n",
        "model_6.fit(X_train,Y_train)\n",
        "pred_6 = model_6.predict(x_test)\n",
        "cr6    = classification_report(y_test,pred_6)\n",
        "print(cr6)"
      ],
      "metadata": {
        "id": "j51oBh2SIVRO",
        "outputId": "7ac553eb-9813-46ee-a18e-029157cf3354",
        "colab": {
          "base_uri": "https://localhost:8080/"
        }
      },
      "execution_count": 55,
      "outputs": [
        {
          "output_type": "stream",
          "name": "stdout",
          "text": [
            "Learning rate set to 0.150531\n",
            "0:\tlearn: 0.5931830\ttotal: 38.3ms\tremaining: 7.62s\n",
            "1:\tlearn: 0.5191896\ttotal: 78.3ms\tremaining: 7.75s\n",
            "2:\tlearn: 0.4670388\ttotal: 126ms\tremaining: 8.26s\n",
            "3:\tlearn: 0.4218927\ttotal: 159ms\tremaining: 7.8s\n",
            "4:\tlearn: 0.4029660\ttotal: 183ms\tremaining: 7.12s\n",
            "5:\tlearn: 0.3883842\ttotal: 211ms\tremaining: 6.82s\n",
            "6:\tlearn: 0.3716388\ttotal: 254ms\tremaining: 7.01s\n",
            "7:\tlearn: 0.3634901\ttotal: 281ms\tremaining: 6.74s\n",
            "8:\tlearn: 0.3555048\ttotal: 294ms\tremaining: 6.25s\n",
            "9:\tlearn: 0.3426069\ttotal: 308ms\tremaining: 5.85s\n",
            "10:\tlearn: 0.3341558\ttotal: 335ms\tremaining: 5.75s\n",
            "11:\tlearn: 0.3283744\ttotal: 366ms\tremaining: 5.74s\n",
            "12:\tlearn: 0.3221231\ttotal: 401ms\tremaining: 5.77s\n",
            "13:\tlearn: 0.3184442\ttotal: 435ms\tremaining: 5.78s\n",
            "14:\tlearn: 0.3150411\ttotal: 449ms\tremaining: 5.53s\n",
            "15:\tlearn: 0.3095936\ttotal: 462ms\tremaining: 5.31s\n",
            "16:\tlearn: 0.3034058\ttotal: 475ms\tremaining: 5.11s\n",
            "17:\tlearn: 0.2994527\ttotal: 487ms\tremaining: 4.93s\n",
            "18:\tlearn: 0.2904083\ttotal: 502ms\tremaining: 4.78s\n",
            "19:\tlearn: 0.2864003\ttotal: 533ms\tremaining: 4.8s\n",
            "20:\tlearn: 0.2786243\ttotal: 567ms\tremaining: 4.83s\n",
            "21:\tlearn: 0.2765663\ttotal: 596ms\tremaining: 4.82s\n",
            "22:\tlearn: 0.2744187\ttotal: 615ms\tremaining: 4.74s\n",
            "23:\tlearn: 0.2705366\ttotal: 640ms\tremaining: 4.69s\n",
            "24:\tlearn: 0.2667826\ttotal: 654ms\tremaining: 4.58s\n",
            "25:\tlearn: 0.2634000\ttotal: 678ms\tremaining: 4.54s\n",
            "26:\tlearn: 0.2592178\ttotal: 697ms\tremaining: 4.47s\n",
            "27:\tlearn: 0.2565807\ttotal: 747ms\tremaining: 4.59s\n",
            "28:\tlearn: 0.2544044\ttotal: 775ms\tremaining: 4.57s\n",
            "29:\tlearn: 0.2515624\ttotal: 792ms\tremaining: 4.49s\n",
            "30:\tlearn: 0.2500578\ttotal: 807ms\tremaining: 4.4s\n",
            "31:\tlearn: 0.2440379\ttotal: 828ms\tremaining: 4.34s\n",
            "32:\tlearn: 0.2425708\ttotal: 844ms\tremaining: 4.27s\n",
            "33:\tlearn: 0.2397222\ttotal: 860ms\tremaining: 4.2s\n",
            "34:\tlearn: 0.2369271\ttotal: 872ms\tremaining: 4.11s\n",
            "35:\tlearn: 0.2335933\ttotal: 898ms\tremaining: 4.09s\n",
            "36:\tlearn: 0.2325561\ttotal: 961ms\tremaining: 4.23s\n",
            "37:\tlearn: 0.2302833\ttotal: 980ms\tremaining: 4.18s\n",
            "38:\tlearn: 0.2279410\ttotal: 997ms\tremaining: 4.12s\n",
            "39:\tlearn: 0.2253584\ttotal: 1.03s\tremaining: 4.13s\n",
            "40:\tlearn: 0.2237360\ttotal: 1.06s\tremaining: 4.11s\n",
            "41:\tlearn: 0.2215888\ttotal: 1.09s\tremaining: 4.11s\n",
            "42:\tlearn: 0.2201245\ttotal: 1.12s\tremaining: 4.11s\n",
            "43:\tlearn: 0.2195928\ttotal: 1.16s\tremaining: 4.1s\n",
            "44:\tlearn: 0.2188742\ttotal: 1.19s\tremaining: 4.11s\n",
            "45:\tlearn: 0.2162690\ttotal: 1.23s\tremaining: 4.13s\n",
            "46:\tlearn: 0.2142841\ttotal: 1.26s\tremaining: 4.1s\n",
            "47:\tlearn: 0.2127517\ttotal: 1.29s\tremaining: 4.08s\n",
            "48:\tlearn: 0.2108706\ttotal: 1.32s\tremaining: 4.07s\n",
            "49:\tlearn: 0.2098625\ttotal: 1.35s\tremaining: 4.06s\n",
            "50:\tlearn: 0.2087362\ttotal: 1.39s\tremaining: 4.05s\n",
            "51:\tlearn: 0.2069171\ttotal: 1.42s\tremaining: 4.04s\n",
            "52:\tlearn: 0.2053862\ttotal: 1.45s\tremaining: 4.03s\n",
            "53:\tlearn: 0.2040488\ttotal: 1.49s\tremaining: 4.01s\n",
            "54:\tlearn: 0.2026184\ttotal: 1.51s\tremaining: 4s\n",
            "55:\tlearn: 0.1999326\ttotal: 1.55s\tremaining: 3.98s\n",
            "56:\tlearn: 0.1981345\ttotal: 1.56s\tremaining: 3.91s\n",
            "57:\tlearn: 0.1967565\ttotal: 1.64s\tremaining: 4.01s\n",
            "58:\tlearn: 0.1959154\ttotal: 1.7s\tremaining: 4.06s\n",
            "59:\tlearn: 0.1937627\ttotal: 1.75s\tremaining: 4.08s\n",
            "60:\tlearn: 0.1915172\ttotal: 1.8s\tremaining: 4.11s\n",
            "61:\tlearn: 0.1891636\ttotal: 1.84s\tremaining: 4.1s\n",
            "62:\tlearn: 0.1876053\ttotal: 1.88s\tremaining: 4.09s\n",
            "63:\tlearn: 0.1858689\ttotal: 1.91s\tremaining: 4.06s\n",
            "64:\tlearn: 0.1835219\ttotal: 1.93s\tremaining: 4.01s\n",
            "65:\tlearn: 0.1820352\ttotal: 1.97s\tremaining: 3.99s\n",
            "66:\tlearn: 0.1813301\ttotal: 2s\tremaining: 3.97s\n",
            "67:\tlearn: 0.1799243\ttotal: 2.03s\tremaining: 3.95s\n",
            "68:\tlearn: 0.1788762\ttotal: 2.09s\tremaining: 3.98s\n",
            "69:\tlearn: 0.1776396\ttotal: 2.14s\tremaining: 3.97s\n",
            "70:\tlearn: 0.1763535\ttotal: 2.15s\tremaining: 3.91s\n",
            "71:\tlearn: 0.1742220\ttotal: 2.17s\tremaining: 3.85s\n",
            "72:\tlearn: 0.1721160\ttotal: 2.21s\tremaining: 3.84s\n",
            "73:\tlearn: 0.1702411\ttotal: 2.24s\tremaining: 3.82s\n",
            "74:\tlearn: 0.1685050\ttotal: 2.28s\tremaining: 3.8s\n",
            "75:\tlearn: 0.1674419\ttotal: 2.3s\tremaining: 3.75s\n",
            "76:\tlearn: 0.1661016\ttotal: 2.34s\tremaining: 3.74s\n",
            "77:\tlearn: 0.1644682\ttotal: 2.37s\tremaining: 3.7s\n",
            "78:\tlearn: 0.1636571\ttotal: 2.38s\tremaining: 3.64s\n",
            "79:\tlearn: 0.1623229\ttotal: 2.39s\tremaining: 3.59s\n",
            "80:\tlearn: 0.1602984\ttotal: 2.42s\tremaining: 3.55s\n",
            "81:\tlearn: 0.1584912\ttotal: 2.43s\tremaining: 3.5s\n",
            "82:\tlearn: 0.1566047\ttotal: 2.45s\tremaining: 3.45s\n",
            "83:\tlearn: 0.1554583\ttotal: 2.46s\tremaining: 3.4s\n",
            "84:\tlearn: 0.1536202\ttotal: 2.48s\tremaining: 3.36s\n",
            "85:\tlearn: 0.1517639\ttotal: 2.56s\tremaining: 3.39s\n",
            "86:\tlearn: 0.1501361\ttotal: 2.59s\tremaining: 3.37s\n",
            "87:\tlearn: 0.1492477\ttotal: 2.63s\tremaining: 3.35s\n",
            "88:\tlearn: 0.1488672\ttotal: 2.64s\tremaining: 3.3s\n",
            "89:\tlearn: 0.1478561\ttotal: 2.66s\tremaining: 3.25s\n",
            "90:\tlearn: 0.1449690\ttotal: 2.67s\tremaining: 3.2s\n",
            "91:\tlearn: 0.1432645\ttotal: 2.69s\tremaining: 3.15s\n",
            "92:\tlearn: 0.1420589\ttotal: 2.7s\tremaining: 3.11s\n",
            "93:\tlearn: 0.1407203\ttotal: 2.71s\tremaining: 3.06s\n",
            "94:\tlearn: 0.1388040\ttotal: 2.73s\tremaining: 3.02s\n",
            "95:\tlearn: 0.1372374\ttotal: 2.78s\tremaining: 3.01s\n",
            "96:\tlearn: 0.1366335\ttotal: 2.83s\tremaining: 3s\n",
            "97:\tlearn: 0.1361402\ttotal: 2.89s\tremaining: 3s\n",
            "98:\tlearn: 0.1350113\ttotal: 2.92s\tremaining: 2.98s\n",
            "99:\tlearn: 0.1344785\ttotal: 2.96s\tremaining: 2.96s\n",
            "100:\tlearn: 0.1333214\ttotal: 2.99s\tremaining: 2.93s\n",
            "101:\tlearn: 0.1328116\ttotal: 3.01s\tremaining: 2.89s\n",
            "102:\tlearn: 0.1318287\ttotal: 3.03s\tremaining: 2.85s\n",
            "103:\tlearn: 0.1309079\ttotal: 3.06s\tremaining: 2.83s\n",
            "104:\tlearn: 0.1303367\ttotal: 3.09s\tremaining: 2.8s\n",
            "105:\tlearn: 0.1301633\ttotal: 3.13s\tremaining: 2.78s\n",
            "106:\tlearn: 0.1294731\ttotal: 3.15s\tremaining: 2.74s\n",
            "107:\tlearn: 0.1287003\ttotal: 3.2s\tremaining: 2.73s\n",
            "108:\tlearn: 0.1279623\ttotal: 3.23s\tremaining: 2.69s\n",
            "109:\tlearn: 0.1277401\ttotal: 3.25s\tremaining: 2.66s\n",
            "110:\tlearn: 0.1266430\ttotal: 3.26s\tremaining: 2.62s\n",
            "111:\tlearn: 0.1257996\ttotal: 3.28s\tremaining: 2.57s\n",
            "112:\tlearn: 0.1248493\ttotal: 3.29s\tremaining: 2.53s\n",
            "113:\tlearn: 0.1234264\ttotal: 3.33s\tremaining: 2.51s\n",
            "114:\tlearn: 0.1224161\ttotal: 3.35s\tremaining: 2.48s\n",
            "115:\tlearn: 0.1211162\ttotal: 3.39s\tremaining: 2.45s\n",
            "116:\tlearn: 0.1203284\ttotal: 3.43s\tremaining: 2.44s\n",
            "117:\tlearn: 0.1194769\ttotal: 3.46s\tremaining: 2.4s\n",
            "118:\tlearn: 0.1187846\ttotal: 3.49s\tremaining: 2.38s\n",
            "119:\tlearn: 0.1185612\ttotal: 3.52s\tremaining: 2.35s\n",
            "120:\tlearn: 0.1175816\ttotal: 3.56s\tremaining: 2.32s\n",
            "121:\tlearn: 0.1170371\ttotal: 3.59s\tremaining: 2.29s\n",
            "122:\tlearn: 0.1162080\ttotal: 3.62s\tremaining: 2.27s\n",
            "123:\tlearn: 0.1156248\ttotal: 3.66s\tremaining: 2.24s\n",
            "124:\tlearn: 0.1149840\ttotal: 3.69s\tremaining: 2.21s\n",
            "125:\tlearn: 0.1142390\ttotal: 3.72s\tremaining: 2.19s\n",
            "126:\tlearn: 0.1131420\ttotal: 3.75s\tremaining: 2.16s\n",
            "127:\tlearn: 0.1123186\ttotal: 3.8s\tremaining: 2.14s\n",
            "128:\tlearn: 0.1117986\ttotal: 3.82s\tremaining: 2.1s\n",
            "129:\tlearn: 0.1109981\ttotal: 3.88s\tremaining: 2.09s\n",
            "130:\tlearn: 0.1104906\ttotal: 3.93s\tremaining: 2.07s\n",
            "131:\tlearn: 0.1093080\ttotal: 3.97s\tremaining: 2.05s\n",
            "132:\tlearn: 0.1086384\ttotal: 4.01s\tremaining: 2.02s\n",
            "133:\tlearn: 0.1076388\ttotal: 4.04s\tremaining: 1.99s\n",
            "134:\tlearn: 0.1072627\ttotal: 4.09s\tremaining: 1.97s\n",
            "135:\tlearn: 0.1069456\ttotal: 4.12s\tremaining: 1.94s\n",
            "136:\tlearn: 0.1064074\ttotal: 4.17s\tremaining: 1.92s\n",
            "137:\tlearn: 0.1056387\ttotal: 4.21s\tremaining: 1.89s\n",
            "138:\tlearn: 0.1052357\ttotal: 4.25s\tremaining: 1.86s\n",
            "139:\tlearn: 0.1044708\ttotal: 4.29s\tremaining: 1.84s\n",
            "140:\tlearn: 0.1037538\ttotal: 4.32s\tremaining: 1.81s\n",
            "141:\tlearn: 0.1031841\ttotal: 4.36s\tremaining: 1.78s\n",
            "142:\tlearn: 0.1025006\ttotal: 4.39s\tremaining: 1.75s\n",
            "143:\tlearn: 0.1021508\ttotal: 4.43s\tremaining: 1.72s\n",
            "144:\tlearn: 0.1016236\ttotal: 4.47s\tremaining: 1.7s\n",
            "145:\tlearn: 0.1011296\ttotal: 4.5s\tremaining: 1.67s\n",
            "146:\tlearn: 0.1004359\ttotal: 4.54s\tremaining: 1.64s\n",
            "147:\tlearn: 0.0999052\ttotal: 4.57s\tremaining: 1.6s\n",
            "148:\tlearn: 0.0988903\ttotal: 4.58s\tremaining: 1.57s\n",
            "149:\tlearn: 0.0984353\ttotal: 4.6s\tremaining: 1.53s\n",
            "150:\tlearn: 0.0972846\ttotal: 4.63s\tremaining: 1.5s\n",
            "151:\tlearn: 0.0969353\ttotal: 4.66s\tremaining: 1.47s\n",
            "152:\tlearn: 0.0967450\ttotal: 4.69s\tremaining: 1.44s\n",
            "153:\tlearn: 0.0963701\ttotal: 4.73s\tremaining: 1.41s\n",
            "154:\tlearn: 0.0961327\ttotal: 4.79s\tremaining: 1.39s\n",
            "155:\tlearn: 0.0960198\ttotal: 4.81s\tremaining: 1.35s\n",
            "156:\tlearn: 0.0954744\ttotal: 4.82s\tremaining: 1.32s\n",
            "157:\tlearn: 0.0948088\ttotal: 4.83s\tremaining: 1.28s\n",
            "158:\tlearn: 0.0938280\ttotal: 4.88s\tremaining: 1.26s\n",
            "159:\tlearn: 0.0933933\ttotal: 4.9s\tremaining: 1.22s\n",
            "160:\tlearn: 0.0924479\ttotal: 4.93s\tremaining: 1.2s\n",
            "161:\tlearn: 0.0915679\ttotal: 4.95s\tremaining: 1.16s\n",
            "162:\tlearn: 0.0912015\ttotal: 4.96s\tremaining: 1.13s\n",
            "163:\tlearn: 0.0906022\ttotal: 4.97s\tremaining: 1.09s\n",
            "164:\tlearn: 0.0901031\ttotal: 4.99s\tremaining: 1.06s\n",
            "165:\tlearn: 0.0895922\ttotal: 5s\tremaining: 1.02s\n",
            "166:\tlearn: 0.0890694\ttotal: 5.02s\tremaining: 991ms\n",
            "167:\tlearn: 0.0886819\ttotal: 5.04s\tremaining: 961ms\n",
            "168:\tlearn: 0.0882856\ttotal: 5.08s\tremaining: 931ms\n",
            "169:\tlearn: 0.0879024\ttotal: 5.11s\tremaining: 901ms\n",
            "170:\tlearn: 0.0875798\ttotal: 5.15s\tremaining: 873ms\n",
            "171:\tlearn: 0.0873927\ttotal: 5.16s\tremaining: 840ms\n",
            "172:\tlearn: 0.0868235\ttotal: 5.17s\tremaining: 807ms\n",
            "173:\tlearn: 0.0864215\ttotal: 5.18s\tremaining: 774ms\n",
            "174:\tlearn: 0.0862339\ttotal: 5.19s\tremaining: 742ms\n",
            "175:\tlearn: 0.0857185\ttotal: 5.23s\tremaining: 713ms\n",
            "176:\tlearn: 0.0854732\ttotal: 5.24s\tremaining: 681ms\n",
            "177:\tlearn: 0.0849244\ttotal: 5.25s\tremaining: 649ms\n",
            "178:\tlearn: 0.0843903\ttotal: 5.27s\tremaining: 618ms\n",
            "179:\tlearn: 0.0839936\ttotal: 5.28s\tremaining: 587ms\n",
            "180:\tlearn: 0.0829796\ttotal: 5.29s\tremaining: 556ms\n",
            "181:\tlearn: 0.0822623\ttotal: 5.31s\tremaining: 525ms\n",
            "182:\tlearn: 0.0818906\ttotal: 5.32s\tremaining: 494ms\n",
            "183:\tlearn: 0.0814916\ttotal: 5.34s\tremaining: 464ms\n",
            "184:\tlearn: 0.0813279\ttotal: 5.35s\tremaining: 434ms\n",
            "185:\tlearn: 0.0806625\ttotal: 5.37s\tremaining: 404ms\n",
            "186:\tlearn: 0.0802528\ttotal: 5.39s\tremaining: 375ms\n",
            "187:\tlearn: 0.0800926\ttotal: 5.42s\tremaining: 346ms\n",
            "188:\tlearn: 0.0798739\ttotal: 5.45s\tremaining: 317ms\n",
            "189:\tlearn: 0.0795636\ttotal: 5.48s\tremaining: 289ms\n",
            "190:\tlearn: 0.0790283\ttotal: 5.51s\tremaining: 260ms\n",
            "191:\tlearn: 0.0789942\ttotal: 5.54s\tremaining: 231ms\n",
            "192:\tlearn: 0.0788455\ttotal: 5.58s\tremaining: 202ms\n",
            "193:\tlearn: 0.0784984\ttotal: 5.61s\tremaining: 173ms\n",
            "194:\tlearn: 0.0782915\ttotal: 5.63s\tremaining: 144ms\n",
            "195:\tlearn: 0.0781660\ttotal: 5.66s\tremaining: 115ms\n",
            "196:\tlearn: 0.0774780\ttotal: 5.67s\tremaining: 86.4ms\n",
            "197:\tlearn: 0.0773908\ttotal: 5.68s\tremaining: 57.4ms\n",
            "198:\tlearn: 0.0769146\ttotal: 5.7s\tremaining: 28.7ms\n",
            "199:\tlearn: 0.0766325\ttotal: 5.74s\tremaining: 0us\n",
            "              precision    recall  f1-score   support\n",
            "\n",
            "           0       0.99      0.96      0.97      1039\n",
            "           1       0.96      0.99      0.97      1041\n",
            "\n",
            "    accuracy                           0.97      2080\n",
            "   macro avg       0.97      0.97      0.97      2080\n",
            "weighted avg       0.97      0.97      0.97      2080\n",
            "\n"
          ]
        }
      ]
    },
    {
      "cell_type": "code",
      "source": [
        "\n",
        "\n",
        "score_1 = accuracy_score(y_test,pred_1)\n",
        "score_2 = accuracy_score(y_test,pred_2)\n",
        "score_3 = accuracy_score(y_test,pred_3)\n",
        "score_4 = accuracy_score(y_test,pred_4)\n",
        "score_5 = accuracy_score(y_test,pred_5)\n",
        "score_6 = accuracy_score(y_test,predictions)\n",
        "score_7 = accuracy_score(y_test,predictions_2)\n",
        "score_8 = accuracy_score(y_test,pred_6)\n",
        "results = pd.DataFrame([[\"Logistic Regression\",score_1],[\"Naive Bayes\",score_2],[\"Decision Tree\",score_3],\n",
        "                       [\"Random Forest\",score_4],[\"XGBOOST\",score_5],[\"LSTM\",score_6*2],[\"LSTM-Modified\",score_7*2], [\"Cat Boost\",score_8]],columns=[\"Model\",\"Accuracy\"])\n",
        "\n",
        "results"
      ],
      "metadata": {
        "id": "lI5ZDXUeJF3y",
        "outputId": "2aebc835-2b81-45c6-bfab-634ab5ea9f58",
        "colab": {
          "base_uri": "https://localhost:8080/",
          "height": 300
        }
      },
      "execution_count": 56,
      "outputs": [
        {
          "output_type": "execute_result",
          "data": {
            "text/plain": [
              "                 Model  Accuracy\n",
              "0  Logistic Regression  0.705769\n",
              "1          Naive Bayes  0.678846\n",
              "2        Decision Tree  0.884615\n",
              "3        Random Forest  0.868750\n",
              "4              XGBOOST  0.911058\n",
              "5                 LSTM  0.999038\n",
              "6        LSTM-Modified  0.999038\n",
              "7            Cat Boost  0.974038"
            ],
            "text/html": [
              "\n",
              "  <div id=\"df-e773e2f6-18af-4982-bfdd-2a4dd47fa1ed\">\n",
              "    <div class=\"colab-df-container\">\n",
              "      <div>\n",
              "<style scoped>\n",
              "    .dataframe tbody tr th:only-of-type {\n",
              "        vertical-align: middle;\n",
              "    }\n",
              "\n",
              "    .dataframe tbody tr th {\n",
              "        vertical-align: top;\n",
              "    }\n",
              "\n",
              "    .dataframe thead th {\n",
              "        text-align: right;\n",
              "    }\n",
              "</style>\n",
              "<table border=\"1\" class=\"dataframe\">\n",
              "  <thead>\n",
              "    <tr style=\"text-align: right;\">\n",
              "      <th></th>\n",
              "      <th>Model</th>\n",
              "      <th>Accuracy</th>\n",
              "    </tr>\n",
              "  </thead>\n",
              "  <tbody>\n",
              "    <tr>\n",
              "      <th>0</th>\n",
              "      <td>Logistic Regression</td>\n",
              "      <td>0.705769</td>\n",
              "    </tr>\n",
              "    <tr>\n",
              "      <th>1</th>\n",
              "      <td>Naive Bayes</td>\n",
              "      <td>0.678846</td>\n",
              "    </tr>\n",
              "    <tr>\n",
              "      <th>2</th>\n",
              "      <td>Decision Tree</td>\n",
              "      <td>0.884615</td>\n",
              "    </tr>\n",
              "    <tr>\n",
              "      <th>3</th>\n",
              "      <td>Random Forest</td>\n",
              "      <td>0.868750</td>\n",
              "    </tr>\n",
              "    <tr>\n",
              "      <th>4</th>\n",
              "      <td>XGBOOST</td>\n",
              "      <td>0.911058</td>\n",
              "    </tr>\n",
              "    <tr>\n",
              "      <th>5</th>\n",
              "      <td>LSTM</td>\n",
              "      <td>0.999038</td>\n",
              "    </tr>\n",
              "    <tr>\n",
              "      <th>6</th>\n",
              "      <td>LSTM-Modified</td>\n",
              "      <td>0.999038</td>\n",
              "    </tr>\n",
              "    <tr>\n",
              "      <th>7</th>\n",
              "      <td>Cat Boost</td>\n",
              "      <td>0.974038</td>\n",
              "    </tr>\n",
              "  </tbody>\n",
              "</table>\n",
              "</div>\n",
              "      <button class=\"colab-df-convert\" onclick=\"convertToInteractive('df-e773e2f6-18af-4982-bfdd-2a4dd47fa1ed')\"\n",
              "              title=\"Convert this dataframe to an interactive table.\"\n",
              "              style=\"display:none;\">\n",
              "        \n",
              "  <svg xmlns=\"http://www.w3.org/2000/svg\" height=\"24px\"viewBox=\"0 0 24 24\"\n",
              "       width=\"24px\">\n",
              "    <path d=\"M0 0h24v24H0V0z\" fill=\"none\"/>\n",
              "    <path d=\"M18.56 5.44l.94 2.06.94-2.06 2.06-.94-2.06-.94-.94-2.06-.94 2.06-2.06.94zm-11 1L8.5 8.5l.94-2.06 2.06-.94-2.06-.94L8.5 2.5l-.94 2.06-2.06.94zm10 10l.94 2.06.94-2.06 2.06-.94-2.06-.94-.94-2.06-.94 2.06-2.06.94z\"/><path d=\"M17.41 7.96l-1.37-1.37c-.4-.4-.92-.59-1.43-.59-.52 0-1.04.2-1.43.59L10.3 9.45l-7.72 7.72c-.78.78-.78 2.05 0 2.83L4 21.41c.39.39.9.59 1.41.59.51 0 1.02-.2 1.41-.59l7.78-7.78 2.81-2.81c.8-.78.8-2.07 0-2.86zM5.41 20L4 18.59l7.72-7.72 1.47 1.35L5.41 20z\"/>\n",
              "  </svg>\n",
              "      </button>\n",
              "      \n",
              "  <style>\n",
              "    .colab-df-container {\n",
              "      display:flex;\n",
              "      flex-wrap:wrap;\n",
              "      gap: 12px;\n",
              "    }\n",
              "\n",
              "    .colab-df-convert {\n",
              "      background-color: #E8F0FE;\n",
              "      border: none;\n",
              "      border-radius: 50%;\n",
              "      cursor: pointer;\n",
              "      display: none;\n",
              "      fill: #1967D2;\n",
              "      height: 32px;\n",
              "      padding: 0 0 0 0;\n",
              "      width: 32px;\n",
              "    }\n",
              "\n",
              "    .colab-df-convert:hover {\n",
              "      background-color: #E2EBFA;\n",
              "      box-shadow: 0px 1px 2px rgba(60, 64, 67, 0.3), 0px 1px 3px 1px rgba(60, 64, 67, 0.15);\n",
              "      fill: #174EA6;\n",
              "    }\n",
              "\n",
              "    [theme=dark] .colab-df-convert {\n",
              "      background-color: #3B4455;\n",
              "      fill: #D2E3FC;\n",
              "    }\n",
              "\n",
              "    [theme=dark] .colab-df-convert:hover {\n",
              "      background-color: #434B5C;\n",
              "      box-shadow: 0px 1px 3px 1px rgba(0, 0, 0, 0.15);\n",
              "      filter: drop-shadow(0px 1px 2px rgba(0, 0, 0, 0.3));\n",
              "      fill: #FFFFFF;\n",
              "    }\n",
              "  </style>\n",
              "\n",
              "      <script>\n",
              "        const buttonEl =\n",
              "          document.querySelector('#df-e773e2f6-18af-4982-bfdd-2a4dd47fa1ed button.colab-df-convert');\n",
              "        buttonEl.style.display =\n",
              "          google.colab.kernel.accessAllowed ? 'block' : 'none';\n",
              "\n",
              "        async function convertToInteractive(key) {\n",
              "          const element = document.querySelector('#df-e773e2f6-18af-4982-bfdd-2a4dd47fa1ed');\n",
              "          const dataTable =\n",
              "            await google.colab.kernel.invokeFunction('convertToInteractive',\n",
              "                                                     [key], {});\n",
              "          if (!dataTable) return;\n",
              "\n",
              "          const docLinkHtml = 'Like what you see? Visit the ' +\n",
              "            '<a target=\"_blank\" href=https://colab.research.google.com/notebooks/data_table.ipynb>data table notebook</a>'\n",
              "            + ' to learn more about interactive tables.';\n",
              "          element.innerHTML = '';\n",
              "          dataTable['output_type'] = 'display_data';\n",
              "          await google.colab.output.renderOutput(dataTable, element);\n",
              "          const docLink = document.createElement('div');\n",
              "          docLink.innerHTML = docLinkHtml;\n",
              "          element.appendChild(docLink);\n",
              "        }\n",
              "      </script>\n",
              "    </div>\n",
              "  </div>\n",
              "  "
            ]
          },
          "metadata": {},
          "execution_count": 56
        }
      ]
    }
  ]
}